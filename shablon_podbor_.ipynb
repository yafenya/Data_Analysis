{
 "cells": [
  {
   "cell_type": "code",
   "execution_count": 1,
   "metadata": {},
   "outputs": [],
   "source": [
    "# Внимание!!! Важно, что бы файлы с данными и исполняемый файл находились в одной папке, \n",
    "# тогда пути к тестовым и тренировочным наборам будут содержать только имена файлов.\n",
    "# \n",
    "# В пути к тренировочным и тестовым данным запрежается использовать абсалютную адресацию, \n",
    "# то есть адресацию, в которой присутствуют имена папок. Путь должен содержать только имя файла.\n",
    "#\n",
    "# Напоминание: под моделью машинного обучения понимаются все действия с исходными данными, \n",
    "# которые необходимо произвести, что бы сопоставить признаки целевому значению."
   ]
  },
  {
   "cell_type": "markdown",
   "metadata": {},
   "source": [
    "### Область работы 1 (библиотеки)"
   ]
  },
  {
   "cell_type": "code",
   "execution_count": 2,
   "metadata": {},
   "outputs": [],
   "source": [
    "# Данный блок в области 1 НЕ выполняется преподавателем\n",
    "# \n",
    "# данный блок предназначен только для подключения необходимых библиотек\n",
    "# запрещается подключать библиотеки в других блоках\n",
    "# запрещается скрывать предупреждения системы\n",
    "# установка дополнительных библиотек размещается прямо здесь (обязательно закоментированы)\n",
    "# pip install"
   ]
  },
  {
   "cell_type": "code",
   "execution_count": 1,
   "metadata": {},
   "outputs": [],
   "source": [
    "import numpy as np\n",
    "import matplotlib.pyplot as plt\n",
    "from scipy.stats import uniform, randint\n",
    "import pandas as pd\n",
    "import seaborn as sns\n",
    "from IPython.display import display\n",
    "from scipy.stats import gaussian_kde\n",
    "from sklearn.compose import ColumnTransformer , make_column_transformer, TransformedTargetRegressor  \n",
    "from sklearn.model_selection import train_test_split\n",
    "from sklearn.neighbors import KNeighborsClassifier,KNeighborsRegressor\n",
    "from sklearn.model_selection import cross_val_score, KFold, StratifiedShuffleSplit, GridSearchCV\n",
    "from sklearn.pipeline import Pipeline\n",
    "from sklearn.preprocessing import MinMaxScaler, StandardScaler, RobustScaler, Normalizer,PolynomialFeatures\n",
    "from sklearn.preprocessing import OneHotEncoder, OrdinalEncoder,QuantileTransformer,PowerTransformer\n",
    "from sklearn.metrics import precision_score, classification_report, confusion_matrix, ConfusionMatrixDisplay,log_loss\n",
    "from sklearn.model_selection import RandomizedSearchCV\n",
    "from sklearn.metrics import mean_absolute_percentage_error,f1_score\n",
    "import category_encoders as ce\n",
    "from category_encoders import TargetEncoder\n",
    "from sklearn.linear_model import ElasticNet, Ridge, Lasso, Lars,SGDRegressor,LogisticRegression\n",
    "from sklearn.svm import SVR\n",
    "from sklearn.ensemble import RandomForestClassifier\n",
    "from sklearn.experimental import enable_iterative_imputer\n",
    "from sklearn.impute import SimpleImputer, IterativeImputer, KNNImputer\n",
    "from sklearn.ensemble import GradientBoostingClassifier"
   ]
  },
  {
   "cell_type": "markdown",
   "metadata": {},
   "source": [
    "### Область работы 2 (поиск  модели .... )"
   ]
  },
  {
   "cell_type": "code",
   "execution_count": 3,
   "metadata": {},
   "outputs": [],
   "source": [
    "# Данный блок(и) НЕ выполняются преподавателем в области 2\n",
    "# блок(и) предназначены для поиска лучшей модели \n",
    "# должен быть понятен и очевиден отбор параметров модели\n",
    "# оставляйте свои комментарии и разъяснения\n",
    "# \n",
    "# Запрещается размещать данные блоки за пределами обасти 2\n",
    "# Все блоки данной области должны быть выполнены\n",
    "#\n",
    "# ЗАПРЕЩАЕТСЯ ИСПОЛЬЗОВАТЬ ТЕСТОВЫЙ НАБОР\n",
    "#\n",
    "# Путь к тренировочному набору\n",
    "# \n",
    "\n",
    "train = 'train.csv'\n",
    "df = pd.read_csv(train)\n",
    "df.drop_duplicates(inplace = True)\n",
    "df # содержит только имя файла, без имен папок !!!"
   ]
  },
  {
   "cell_type": "code",
   "execution_count": null,
   "metadata": {},
   "outputs": [],
   "source": [
    "X = df.drop('Target', axis=1)\n",
    "y = df['Target']\n",
    "X_train, X_test, y_train, y_test = train_test_split(X, y, test_size=0.2, stratify = y, random_state=42)"
   ]
  },
  {
   "cell_type": "code",
   "execution_count": null,
   "metadata": {},
   "outputs": [],
   "source": [
    "cat_enc_1 = ['C6_enc','C5_enc','C4_enc','C12_enc']\n",
    "num_features = ['N2','N3','N7','N10','N13','N14']\n",
    "cat_features = ['C1','C9','C11']"
   ]
  },
  {
   "cell_type": "markdown",
   "metadata": {},
   "source": [
    "# проверим метод КНН"
   ]
  },
  {
   "cell_type": "code",
   "execution_count": null,
   "metadata": {},
   "outputs": [],
   "source": [
    "num_transformer = Pipeline(steps=[\n",
    "    ('scaler', Normalizer())\n",
    "])\n",
    "cat_transformer = Pipeline(steps=[\n",
    "    ('scaler', Normalizer())    \n",
    "])\n",
    "cat_enc_1_transformer = Pipeline(steps=[\n",
    "     ('scaler', Normalizer())    \n",
    " ])"
   ]
  },
  {
   "cell_type": "code",
   "execution_count": null,
   "metadata": {},
   "outputs": [],
   "source": [
    "ct = ColumnTransformer(\n",
    "    transformers=[\n",
    "        ('num_transformer', num_transformer, num_features),\n",
    "      ('cat_transformer', cat_transformer, cat_features),\n",
    "         ('cat_enc_1',cat_enc_1_transformer , cat_enc_1),\n",
    "    ],\n",
    "    remainder='passthrough'\n",
    ")"
   ]
  },
  {
   "cell_type": "code",
   "execution_count": null,
   "metadata": {},
   "outputs": [],
   "source": [
    "model_baseline =Pipeline(steps=[\n",
    "        ('preproc', ct),\n",
    "        ('estimator', KNeighborsClassifier())\n",
    "    ],\n",
    ")\n",
    "model_baseline.fit(X_train, y_train)"
   ]
  },
  {
   "cell_type": "code",
   "execution_count": null,
   "metadata": {},
   "outputs": [],
   "source": [
    "param_grid_base = {\n",
    "    'preproc__num_transformer__scaler' :[StandardScaler(), RobustScaler(), MinMaxScaler(), Normalizer()],\n",
    "     'preproc__cat_transformer__scaler' :[StandardScaler(), RobustScaler(),MinMaxScaler()],\n",
    "     'preproc__cat_enc_1__scaler' :[StandardScaler(), RobustScaler(),MinMaxScaler()],\n",
    "   'estimator__n_neighbors': [30, 35, 40, 45, 50],\n",
    "    'estimator__p': [2,3,4],\n",
    "    'estimator__weights': ['uniform', 'distance']  \n",
    "}"
   ]
  },
  {
   "cell_type": "code",
   "execution_count": null,
   "metadata": {},
   "outputs": [],
   "source": [
    "baseline_grid = GridSearchCV(model_baseline, n_jobs=-1, param_grid=param_grid_base, scoring='f1')\n",
    "baseline_grid.fit(X_train, y_train)"
   ]
  },
  {
   "cell_type": "code",
   "execution_count": null,
   "metadata": {},
   "outputs": [],
   "source": [
    "print(\"Лучшие параметры:\", baseline_grid.best_params_)"
   ]
  },
  {
   "cell_type": "code",
   "execution_count": null,
   "metadata": {},
   "outputs": [],
   "source": [
    "y_pred = baseline_grid.predict(X_test)\n",
    "f1 = f1_score(y_test, y_pred)\n",
    "print(\"Метрика F1 модели : \", f1)"
   ]
  },
  {
   "cell_type": "markdown",
   "metadata": {},
   "source": [
    "# Проверим метод градиентного бустинга"
   ]
  },
  {
   "cell_type": "code",
   "execution_count": null,
   "metadata": {},
   "outputs": [],
   "source": [
    "num_transformer = Pipeline(steps=[\n",
    "    ('scaler', Normalizer())\n",
    "])\n",
    "cat_transformer = Pipeline(steps=[\n",
    "    ('scaler', Normalizer())    \n",
    "])\n",
    "cat_enc_1_transformer = Pipeline(steps=[\n",
    "     ('scaler', Normalizer())    \n",
    " ])"
   ]
  },
  {
   "cell_type": "code",
   "execution_count": null,
   "metadata": {},
   "outputs": [],
   "source": [
    "ct = ColumnTransformer(\n",
    "    transformers=[\n",
    "        ('num_transformer', num_transformer, num_features),\n",
    "      ('cat_transformer', cat_transformer, cat_features),\n",
    "         ('cat_enc_1',cat_enc_1_transformer , cat_enc_1),\n",
    "    ],\n",
    "    remainder='passthrough'\n",
    ")"
   ]
  },
  {
   "cell_type": "code",
   "execution_count": null,
   "metadata": {},
   "outputs": [],
   "source": [
    "model_baseline_1 = Pipeline(steps=[\n",
    "        ('preproc', ct),\n",
    "        ('estimator', GradientBoostingClassifier())\n",
    "    ],\n",
    ")\n",
    "model_baseline_1.fit(X_train, y_train)"
   ]
  },
  {
   "cell_type": "code",
   "execution_count": null,
   "metadata": {},
   "outputs": [],
   "source": [
    "param_grid_base = {\n",
    "    'preproc__num_transformer__scaler' :[StandardScaler(), RobustScaler(), MinMaxScaler(), Normalizer()],\n",
    "     'preproc__cat_transformer__scaler' :[StandardScaler(), RobustScaler(),MinMaxScaler()],\n",
    "     'preproc__cat_enc_1__scaler' :[StandardScaler(), RobustScaler(),MinMaxScaler()],\n",
    "  # 'estimator__learning_rate': [0.1,0.2,0.3,0.4,0.5,0.6,0.7],\n",
    "  #  'estimator__subsample': [0.3,0.4,0.5,0.6],\n",
    "  #  'estimator__n_estimators': [300,400,500],\n",
    "    'estimator__criterion':['friedman_mse','squared_error'],\n",
    "    'estimator__max_depth': [2,3,4,5]\n",
    "}"
   ]
  },
  {
   "cell_type": "code",
   "execution_count": null,
   "metadata": {},
   "outputs": [],
   "source": [
    "baseline_grid = GridSearchCV(model_baseline_1, n_jobs=-1, param_grid = param_grid_base, scoring='f1')\n",
    "baseline_grid.fit(X_train, y_train)"
   ]
  },
  {
   "cell_type": "markdown",
   "metadata": {},
   "source": [
    "### найдем лучшие параметры, а в дальнейшем некоторые подберем вручную"
   ]
  },
  {
   "cell_type": "code",
   "execution_count": null,
   "metadata": {},
   "outputs": [],
   "source": [
    "print(\"Лучшие параметры:\", baseline_grid.best_params_)"
   ]
  },
  {
   "cell_type": "code",
   "execution_count": null,
   "metadata": {},
   "outputs": [],
   "source": [
    "y_pred = baseline_grid.predict(X_test)\n",
    "f1 = f1_score(y_test, y_pred)\n",
    "print(\"Метрика F1 модели : \", f1)"
   ]
  },
  {
   "cell_type": "code",
   "execution_count": null,
   "metadata": {},
   "outputs": [],
   "source": [
    "num_transformer = Pipeline(steps=[\n",
    "    ('scaler', StandardScaler())\n",
    "])\n",
    "cat_transformer = Pipeline(steps=[\n",
    "    ('scaler', StandardScaler())    \n",
    "])\n",
    "cat_enc_1_transformer = Pipeline(steps=[\n",
    "     ('scaler', StandardScaler())    \n",
    " ])\n",
    "gb = Pipeline( steps = [   \n",
    "('preproc', ct),\n",
    "('estimator', GradientBoostingClassifier(criterion = 'friedman_mse',\n",
    "                                         n_estimators = 400,subsample=0.1,learning_rate=0.01,\n",
    "                                         max_depth =3 ,random_state=42))])\n",
    "gb.fit(X_train, y_train)"
   ]
  },
  {
   "cell_type": "code",
   "execution_count": null,
   "metadata": {},
   "outputs": [],
   "source": [
    "y_pred = gb.predict(X_test)\n",
    "f1 = f1_score(y_test, y_pred)\n",
    "f1"
   ]
  },
  {
   "cell_type": "code",
   "execution_count": null,
   "metadata": {},
   "outputs": [],
   "source": [
    "y_pred = gb.predict(X_train)\n",
    "f1 = f1_score(y_train, y_pred)\n",
    "f1"
   ]
  },
  {
   "cell_type": "code",
   "execution_count": null,
   "metadata": {},
   "outputs": [],
   "source": [
    "clf = GradientBoostingClassifier(learning_rate = 0.1, subsample = 0.5, random_state = 42)\n",
    "clf.fit(X_train, y_train)\n",
    "y_pred = clf.predict(X_test)\n",
    "\n",
    "# Расчет метрики F1\n",
    "f1 = f1_score(y_test, y_pred)\n",
    "f1"
   ]
  },
  {
   "cell_type": "code",
   "execution_count": null,
   "metadata": {},
   "outputs": [],
   "source": [
    "np.mean(cross_val_score(clf, X, y, scoring = 'f1', cv = 100))"
   ]
  },
  {
   "cell_type": "markdown",
   "metadata": {},
   "source": [
    "# Рандом форест"
   ]
  },
  {
   "cell_type": "code",
   "execution_count": null,
   "metadata": {},
   "outputs": [],
   "source": [
    "num_transformer = Pipeline(steps=[\n",
    "    ('scaler', Normalizer())\n",
    "])\n",
    "cat_transformer = Pipeline(steps=[\n",
    "    ('scaler', Normalizer())    \n",
    "])\n",
    "cat_enc_1_transformer = Pipeline(steps=[\n",
    "     ('scaler', Normalizer())    \n",
    " ])"
   ]
  },
  {
   "cell_type": "code",
   "execution_count": null,
   "metadata": {},
   "outputs": [],
   "source": [
    "ct = ColumnTransformer(\n",
    "    transformers=[\n",
    "        ('num_transformer', num_transformer, num_features),\n",
    "      ('cat_transformer', cat_transformer, cat_features),\n",
    "         ('cat_enc_1',cat_enc_1_transformer , cat_enc_1),\n",
    "    ],\n",
    "    remainder='passthrough'\n",
    ")"
   ]
  },
  {
   "cell_type": "code",
   "execution_count": null,
   "metadata": {},
   "outputs": [],
   "source": [
    "model_baseline_2 = Pipeline(steps=[\n",
    "        ('preproc', ct),\n",
    "        ('estimator', RandomForestClassifier())\n",
    "    ],\n",
    ")\n",
    "model_baseline_1.fit(X_train, y_train)"
   ]
  },
  {
   "cell_type": "code",
   "execution_count": null,
   "metadata": {},
   "outputs": [],
   "source": [
    "param_grid_base = {\n",
    "    'preproc__num_transformer__scaler' :[StandardScaler(), RobustScaler(), MinMaxScaler(), Normalizer()],\n",
    "     'preproc__cat_transformer__scaler' :[StandardScaler(), RobustScaler(),MinMaxScaler()],\n",
    "     'preproc__cat_enc_1__scaler' :[StandardScaler(), RobustScaler(),MinMaxScaler()],\n",
    "   'estimator__criterion': ['gini','entropy'],\n",
    "    #'estimator__n_estimators': range(50,400),\n",
    "    'estimator__max_features': range(4,11),\n",
    "    #'estimator__min_samples_split': [2, 5, 10],\n",
    "    \n",
    "}"
   ]
  },
  {
   "cell_type": "code",
   "execution_count": null,
   "metadata": {},
   "outputs": [],
   "source": [
    "baseline_grid = GridSearchCV(model_baseline_2, n_jobs=-1, param_grid = param_grid_base, scoring='f1')\n",
    "baseline_grid.fit(X_train, y_train)"
   ]
  },
  {
   "cell_type": "code",
   "execution_count": null,
   "metadata": {},
   "outputs": [],
   "source": [
    "print(\"Лучшие параметры:\", baseline_grid.best_params_)"
   ]
  },
  {
   "cell_type": "code",
   "execution_count": null,
   "metadata": {},
   "outputs": [],
   "source": [
    "y_pred = baseline_grid.predict(X_test)\n",
    "f1 = f1_score(y_test, y_pred)\n",
    "print(\"Метрика F1 модели : \", f1)"
   ]
  },
  {
   "cell_type": "markdown",
   "metadata": {},
   "source": [
    "### Соберем модель и снова добавим несколько параметров вручную"
   ]
  },
  {
   "cell_type": "code",
   "execution_count": null,
   "metadata": {},
   "outputs": [],
   "source": [
    "num_transformer = Pipeline(steps=[\n",
    "    ('scaler', Normalizer())\n",
    "])\n",
    "cat_transformer = Pipeline(steps=[\n",
    "    ('scaler', StandardScaler())    \n",
    "])\n",
    "cat_enc_1_transformer = Pipeline(steps=[\n",
    "     ('scaler', MinMaxScaler())    \n",
    " ])\n",
    "gb = Pipeline( steps = [   \n",
    "('preproc', ct),\n",
    "('estimator', RandomForestClassifier(criterion = 'gini', max_features = 6,\n",
    "                                    n_estimators = 100,\n",
    "                                    random_state=42))])\n",
    "gb.fit(X_train, y_train)"
   ]
  },
  {
   "cell_type": "code",
   "execution_count": null,
   "metadata": {},
   "outputs": [],
   "source": [
    "forest = RandomForestClassifier(criterion= 'entropy', n_estimators = 59, max_features = 9,\n",
    "                                random_state = 42)\n",
    "forest.fit(X_train, y_train)\n",
    "y_pred_best = forest.predict(X_test)\n",
    "print('Правильность на тестовом наборе:', f1_score(y_test, y_pred_best))"
   ]
  },
  {
   "cell_type": "code",
   "execution_count": null,
   "metadata": {},
   "outputs": [],
   "source": [
    "y_pred = gb.predict(X_test)\n",
    "f1 = f1_score(y_test, y_pred)\n",
    "f1"
   ]
  },
  {
   "cell_type": "code",
   "execution_count": null,
   "metadata": {},
   "outputs": [],
   "source": [
    "y_pred = gb.predict(X_train)\n",
    "f1 = f1_score(y_train, y_pred)\n",
    "f1"
   ]
  },
  {
   "cell_type": "markdown",
   "metadata": {},
   "source": [
    "###### Лучшее значение = "
   ]
  }
 ],
 "metadata": {
  "kernelspec": {
   "display_name": "Python 3 (ipykernel)",
   "language": "python",
   "name": "python3"
  },
  "language_info": {
   "codemirror_mode": {
    "name": "ipython",
    "version": 3
   },
   "file_extension": ".py",
   "mimetype": "text/x-python",
   "name": "python",
   "nbconvert_exporter": "python",
   "pygments_lexer": "ipython3",
   "version": "3.9.13"
  }
 },
 "nbformat": 4,
 "nbformat_minor": 2
}
