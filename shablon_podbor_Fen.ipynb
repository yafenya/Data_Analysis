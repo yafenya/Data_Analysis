{
 "cells": [
  {
   "cell_type": "code",
   "execution_count": 1,
   "metadata": {},
   "outputs": [],
   "source": [
    "# Внимание!!! Важно, что бы файлы с данными и исполняемый файл находились в одной папке, \n",
    "# тогда пути к тестовым и тренировочным наборам будут содержать только имена файлов.\n",
    "# \n",
    "# В пути к тренировочным и тестовым данным запрежается использовать абсалютную адресацию, \n",
    "# то есть адресацию, в которой присутствуют имена папок. Путь должен содержать только имя файла.\n",
    "#\n",
    "# Напоминание: под моделью машинного обучения понимаются все действия с исходными данными, \n",
    "# которые необходимо произвести, что бы сопоставить признаки целевому значению."
   ]
  },
  {
   "cell_type": "markdown",
   "metadata": {},
   "source": [
    "### Область работы 1 (библиотеки)"
   ]
  },
  {
   "cell_type": "code",
   "execution_count": 2,
   "metadata": {},
   "outputs": [],
   "source": [
    "# Данный блок в области 1 НЕ выполняется преподавателем\n",
    "# \n",
    "# данный блок предназначен только для подключения необходимых библиотек\n",
    "# запрещается подключать библиотеки в других блоках\n",
    "# запрещается скрывать предупреждения системы\n",
    "# установка дополнительных библиотек размещается прямо здесь (обязательно закоментированы)\n",
    "# pip install"
   ]
  },
  {
   "cell_type": "code",
   "execution_count": 7,
   "metadata": {},
   "outputs": [
    {
     "name": "stdout",
     "output_type": "stream",
     "text": [
      "Collecting category_encoders\n",
      "  Downloading category_encoders-2.6.3-py2.py3-none-any.whl (81 kB)\n",
      "     ---------------------------------------- 81.9/81.9 kB 1.5 MB/s eta 0:00:00\n",
      "Requirement already satisfied: scipy>=1.0.0 in c:\\anaconda3\\lib\\site-packages (from category_encoders) (1.10.0)\n",
      "Requirement already satisfied: pandas>=1.0.5 in c:\\anaconda3\\lib\\site-packages (from category_encoders) (1.5.3)\n",
      "Requirement already satisfied: patsy>=0.5.1 in c:\\anaconda3\\lib\\site-packages (from category_encoders) (0.5.3)\n",
      "Requirement already satisfied: scikit-learn>=0.20.0 in c:\\anaconda3\\lib\\site-packages (from category_encoders) (1.2.1)\n",
      "Requirement already satisfied: numpy>=1.14.0 in c:\\anaconda3\\lib\\site-packages (from category_encoders) (1.23.5)\n",
      "Requirement already satisfied: statsmodels>=0.9.0 in c:\\anaconda3\\lib\\site-packages (from category_encoders) (0.13.5)\n",
      "Requirement already satisfied: pytz>=2020.1 in c:\\anaconda3\\lib\\site-packages (from pandas>=1.0.5->category_encoders) (2022.7)\n",
      "Requirement already satisfied: python-dateutil>=2.8.1 in c:\\anaconda3\\lib\\site-packages (from pandas>=1.0.5->category_encoders) (2.8.2)\n",
      "Requirement already satisfied: six in c:\\anaconda3\\lib\\site-packages (from patsy>=0.5.1->category_encoders) (1.16.0)\n",
      "Requirement already satisfied: threadpoolctl>=2.0.0 in c:\\anaconda3\\lib\\site-packages (from scikit-learn>=0.20.0->category_encoders) (2.2.0)\n",
      "Requirement already satisfied: joblib>=1.1.1 in c:\\anaconda3\\lib\\site-packages (from scikit-learn>=0.20.0->category_encoders) (1.1.1)\n",
      "Requirement already satisfied: packaging>=21.3 in c:\\anaconda3\\lib\\site-packages (from statsmodels>=0.9.0->category_encoders) (22.0)\n",
      "Installing collected packages: category_encoders\n",
      "Successfully installed category_encoders-2.6.3\n",
      "Note: you may need to restart the kernel to use updated packages.\n"
     ]
    }
   ],
   "source": [
    "pip install category_encoders"
   ]
  },
  {
   "cell_type": "code",
   "execution_count": 9,
   "metadata": {},
   "outputs": [],
   "source": [
    "import numpy as np\n",
    "import matplotlib.pyplot as plt\n",
    "from scipy.stats import uniform, randint\n",
    "import pandas as pd\n",
    "import seaborn as sns\n",
    "from IPython.display import display\n",
    "from scipy.stats import gaussian_kde\n",
    "from sklearn.compose import ColumnTransformer , make_column_transformer, TransformedTargetRegressor  \n",
    "from sklearn.model_selection import train_test_split\n",
    "from sklearn.neighbors import KNeighborsClassifier,KNeighborsRegressor\n",
    "from sklearn.model_selection import cross_val_score, KFold, StratifiedShuffleSplit, GridSearchCV\n",
    "from sklearn.pipeline import Pipeline\n",
    "from sklearn.preprocessing import MinMaxScaler, StandardScaler, RobustScaler, Normalizer,PolynomialFeatures\n",
    "from sklearn.preprocessing import OneHotEncoder, OrdinalEncoder,QuantileTransformer,PowerTransformer\n",
    "from sklearn.metrics import precision_score, classification_report, confusion_matrix, ConfusionMatrixDisplay,log_loss\n",
    "from sklearn.model_selection import RandomizedSearchCV\n",
    "from sklearn.metrics import mean_absolute_percentage_error,f1_score\n",
    "import category_encoders as ce\n",
    "from category_encoders import TargetEncoder\n",
    "from sklearn.linear_model import ElasticNet, Ridge, Lasso, Lars,SGDRegressor,LogisticRegression\n",
    "from sklearn.svm import SVR\n",
    "from sklearn.ensemble import RandomForestClassifier\n",
    "from sklearn.experimental import enable_iterative_imputer\n",
    "from sklearn.impute import SimpleImputer, IterativeImputer, KNNImputer\n",
    "from sklearn.ensemble import GradientBoostingClassifier"
   ]
  },
  {
   "cell_type": "markdown",
   "metadata": {},
   "source": [
    "### Область работы 2 (поиск  модели .... )"
   ]
  },
  {
   "cell_type": "code",
   "execution_count": 11,
   "metadata": {},
   "outputs": [
    {
     "data": {
      "text/html": [
       "<div>\n",
       "<style scoped>\n",
       "    .dataframe tbody tr th:only-of-type {\n",
       "        vertical-align: middle;\n",
       "    }\n",
       "\n",
       "    .dataframe tbody tr th {\n",
       "        vertical-align: top;\n",
       "    }\n",
       "\n",
       "    .dataframe thead th {\n",
       "        text-align: right;\n",
       "    }\n",
       "</style>\n",
       "<table border=\"1\" class=\"dataframe\">\n",
       "  <thead>\n",
       "    <tr style=\"text-align: right;\">\n",
       "      <th></th>\n",
       "      <th>C1</th>\n",
       "      <th>N2</th>\n",
       "      <th>N3</th>\n",
       "      <th>C4_enc</th>\n",
       "      <th>C5_enc</th>\n",
       "      <th>C6_enc</th>\n",
       "      <th>N7</th>\n",
       "      <th>C8</th>\n",
       "      <th>C9</th>\n",
       "      <th>N10</th>\n",
       "      <th>C11</th>\n",
       "      <th>C12_enc</th>\n",
       "      <th>N13</th>\n",
       "      <th>N14</th>\n",
       "      <th>Target</th>\n",
       "    </tr>\n",
       "  </thead>\n",
       "  <tbody>\n",
       "    <tr>\n",
       "      <th>0</th>\n",
       "      <td>1.0</td>\n",
       "      <td>28.00</td>\n",
       "      <td>2.000</td>\n",
       "      <td>2.0</td>\n",
       "      <td>4.0</td>\n",
       "      <td>8.0</td>\n",
       "      <td>4.165</td>\n",
       "      <td>1.0</td>\n",
       "      <td>1.0</td>\n",
       "      <td>2.0</td>\n",
       "      <td>1.0</td>\n",
       "      <td>2.0</td>\n",
       "      <td>181.0</td>\n",
       "      <td>1.0</td>\n",
       "      <td>1.0</td>\n",
       "    </tr>\n",
       "    <tr>\n",
       "      <th>1</th>\n",
       "      <td>1.0</td>\n",
       "      <td>36.25</td>\n",
       "      <td>5.000</td>\n",
       "      <td>2.0</td>\n",
       "      <td>8.0</td>\n",
       "      <td>5.0</td>\n",
       "      <td>2.500</td>\n",
       "      <td>1.0</td>\n",
       "      <td>1.0</td>\n",
       "      <td>6.0</td>\n",
       "      <td>0.0</td>\n",
       "      <td>2.0</td>\n",
       "      <td>0.0</td>\n",
       "      <td>368.0</td>\n",
       "      <td>1.0</td>\n",
       "    </tr>\n",
       "    <tr>\n",
       "      <th>2</th>\n",
       "      <td>0.0</td>\n",
       "      <td>29.50</td>\n",
       "      <td>2.000</td>\n",
       "      <td>1.0</td>\n",
       "      <td>10.0</td>\n",
       "      <td>8.0</td>\n",
       "      <td>2.000</td>\n",
       "      <td>0.0</td>\n",
       "      <td>0.0</td>\n",
       "      <td>0.0</td>\n",
       "      <td>0.0</td>\n",
       "      <td>2.0</td>\n",
       "      <td>256.0</td>\n",
       "      <td>18.0</td>\n",
       "      <td>0.0</td>\n",
       "    </tr>\n",
       "    <tr>\n",
       "      <th>3</th>\n",
       "      <td>1.0</td>\n",
       "      <td>22.67</td>\n",
       "      <td>0.165</td>\n",
       "      <td>2.0</td>\n",
       "      <td>8.0</td>\n",
       "      <td>3.0</td>\n",
       "      <td>2.250</td>\n",
       "      <td>0.0</td>\n",
       "      <td>0.0</td>\n",
       "      <td>0.0</td>\n",
       "      <td>1.0</td>\n",
       "      <td>1.0</td>\n",
       "      <td>0.0</td>\n",
       "      <td>1.0</td>\n",
       "      <td>1.0</td>\n",
       "    </tr>\n",
       "    <tr>\n",
       "      <th>4</th>\n",
       "      <td>0.0</td>\n",
       "      <td>25.75</td>\n",
       "      <td>0.500</td>\n",
       "      <td>2.0</td>\n",
       "      <td>8.0</td>\n",
       "      <td>8.0</td>\n",
       "      <td>0.875</td>\n",
       "      <td>1.0</td>\n",
       "      <td>0.0</td>\n",
       "      <td>0.0</td>\n",
       "      <td>1.0</td>\n",
       "      <td>2.0</td>\n",
       "      <td>491.0</td>\n",
       "      <td>1.0</td>\n",
       "      <td>1.0</td>\n",
       "    </tr>\n",
       "    <tr>\n",
       "      <th>...</th>\n",
       "      <td>...</td>\n",
       "      <td>...</td>\n",
       "      <td>...</td>\n",
       "      <td>...</td>\n",
       "      <td>...</td>\n",
       "      <td>...</td>\n",
       "      <td>...</td>\n",
       "      <td>...</td>\n",
       "      <td>...</td>\n",
       "      <td>...</td>\n",
       "      <td>...</td>\n",
       "      <td>...</td>\n",
       "      <td>...</td>\n",
       "      <td>...</td>\n",
       "      <td>...</td>\n",
       "    </tr>\n",
       "    <tr>\n",
       "      <th>581</th>\n",
       "      <td>1.0</td>\n",
       "      <td>28.75</td>\n",
       "      <td>1.165</td>\n",
       "      <td>2.0</td>\n",
       "      <td>4.0</td>\n",
       "      <td>4.0</td>\n",
       "      <td>0.500</td>\n",
       "      <td>1.0</td>\n",
       "      <td>0.0</td>\n",
       "      <td>0.0</td>\n",
       "      <td>0.0</td>\n",
       "      <td>1.0</td>\n",
       "      <td>280.0</td>\n",
       "      <td>1.0</td>\n",
       "      <td>0.0</td>\n",
       "    </tr>\n",
       "    <tr>\n",
       "      <th>582</th>\n",
       "      <td>1.0</td>\n",
       "      <td>44.83</td>\n",
       "      <td>7.000</td>\n",
       "      <td>1.0</td>\n",
       "      <td>8.0</td>\n",
       "      <td>4.0</td>\n",
       "      <td>1.625</td>\n",
       "      <td>0.0</td>\n",
       "      <td>0.0</td>\n",
       "      <td>0.0</td>\n",
       "      <td>0.0</td>\n",
       "      <td>2.0</td>\n",
       "      <td>160.0</td>\n",
       "      <td>3.0</td>\n",
       "      <td>0.0</td>\n",
       "    </tr>\n",
       "    <tr>\n",
       "      <th>583</th>\n",
       "      <td>1.0</td>\n",
       "      <td>21.33</td>\n",
       "      <td>7.500</td>\n",
       "      <td>2.0</td>\n",
       "      <td>6.0</td>\n",
       "      <td>4.0</td>\n",
       "      <td>1.415</td>\n",
       "      <td>1.0</td>\n",
       "      <td>1.0</td>\n",
       "      <td>1.0</td>\n",
       "      <td>0.0</td>\n",
       "      <td>2.0</td>\n",
       "      <td>80.0</td>\n",
       "      <td>9801.0</td>\n",
       "      <td>1.0</td>\n",
       "    </tr>\n",
       "    <tr>\n",
       "      <th>584</th>\n",
       "      <td>0.0</td>\n",
       "      <td>53.33</td>\n",
       "      <td>0.165</td>\n",
       "      <td>2.0</td>\n",
       "      <td>1.0</td>\n",
       "      <td>1.0</td>\n",
       "      <td>0.000</td>\n",
       "      <td>0.0</td>\n",
       "      <td>0.0</td>\n",
       "      <td>0.0</td>\n",
       "      <td>1.0</td>\n",
       "      <td>1.0</td>\n",
       "      <td>62.0</td>\n",
       "      <td>28.0</td>\n",
       "      <td>0.0</td>\n",
       "    </tr>\n",
       "    <tr>\n",
       "      <th>585</th>\n",
       "      <td>1.0</td>\n",
       "      <td>40.25</td>\n",
       "      <td>21.500</td>\n",
       "      <td>2.0</td>\n",
       "      <td>10.0</td>\n",
       "      <td>9.0</td>\n",
       "      <td>20.000</td>\n",
       "      <td>1.0</td>\n",
       "      <td>1.0</td>\n",
       "      <td>11.0</td>\n",
       "      <td>0.0</td>\n",
       "      <td>2.0</td>\n",
       "      <td>0.0</td>\n",
       "      <td>1201.0</td>\n",
       "      <td>1.0</td>\n",
       "    </tr>\n",
       "  </tbody>\n",
       "</table>\n",
       "<p>586 rows × 15 columns</p>\n",
       "</div>"
      ],
      "text/plain": [
       "      C1     N2      N3  C4_enc  C5_enc  C6_enc      N7   C8   C9   N10  C11  \\\n",
       "0    1.0  28.00   2.000     2.0     4.0     8.0   4.165  1.0  1.0   2.0  1.0   \n",
       "1    1.0  36.25   5.000     2.0     8.0     5.0   2.500  1.0  1.0   6.0  0.0   \n",
       "2    0.0  29.50   2.000     1.0    10.0     8.0   2.000  0.0  0.0   0.0  0.0   \n",
       "3    1.0  22.67   0.165     2.0     8.0     3.0   2.250  0.0  0.0   0.0  1.0   \n",
       "4    0.0  25.75   0.500     2.0     8.0     8.0   0.875  1.0  0.0   0.0  1.0   \n",
       "..   ...    ...     ...     ...     ...     ...     ...  ...  ...   ...  ...   \n",
       "581  1.0  28.75   1.165     2.0     4.0     4.0   0.500  1.0  0.0   0.0  0.0   \n",
       "582  1.0  44.83   7.000     1.0     8.0     4.0   1.625  0.0  0.0   0.0  0.0   \n",
       "583  1.0  21.33   7.500     2.0     6.0     4.0   1.415  1.0  1.0   1.0  0.0   \n",
       "584  0.0  53.33   0.165     2.0     1.0     1.0   0.000  0.0  0.0   0.0  1.0   \n",
       "585  1.0  40.25  21.500     2.0    10.0     9.0  20.000  1.0  1.0  11.0  0.0   \n",
       "\n",
       "     C12_enc    N13     N14  Target  \n",
       "0        2.0  181.0     1.0     1.0  \n",
       "1        2.0    0.0   368.0     1.0  \n",
       "2        2.0  256.0    18.0     0.0  \n",
       "3        1.0    0.0     1.0     1.0  \n",
       "4        2.0  491.0     1.0     1.0  \n",
       "..       ...    ...     ...     ...  \n",
       "581      1.0  280.0     1.0     0.0  \n",
       "582      2.0  160.0     3.0     0.0  \n",
       "583      2.0   80.0  9801.0     1.0  \n",
       "584      1.0   62.0    28.0     0.0  \n",
       "585      2.0    0.0  1201.0     1.0  \n",
       "\n",
       "[586 rows x 15 columns]"
      ]
     },
     "execution_count": 11,
     "metadata": {},
     "output_type": "execute_result"
    }
   ],
   "source": [
    "# Данный блок(и) НЕ выполняются преподавателем в области 2\n",
    "# блок(и) предназначены для поиска лучшей модели \n",
    "# должен быть понятен и очевиден отбор параметров модели\n",
    "# оставляйте свои комментарии и разъяснения\n",
    "# \n",
    "# Запрещается размещать данные блоки за пределами обасти 2\n",
    "# Все блоки данной области должны быть выполнены\n",
    "#\n",
    "# ЗАПРЕЩАЕТСЯ ИСПОЛЬЗОВАТЬ ТЕСТОВЫЙ НАБОР\n",
    "#\n",
    "# Путь к тренировочному набору\n",
    "# \n",
    "\n",
    "train = 'train.csv'\n",
    "df = pd.read_csv(train)\n",
    "df.drop_duplicates(inplace = True)\n",
    "df # содержит только имя файла, без имен папок !!!"
   ]
  },
  {
   "cell_type": "code",
   "execution_count": 12,
   "metadata": {},
   "outputs": [],
   "source": [
    "X = df.drop('Target', axis=1)\n",
    "y = df['Target']\n",
    "X_train, X_test, y_train, y_test = train_test_split(X, y, test_size=0.2, stratify = y, random_state=42)"
   ]
  },
  {
   "cell_type": "code",
   "execution_count": 13,
   "metadata": {},
   "outputs": [],
   "source": [
    "cat_enc_1 = ['C6_enc','C5_enc','C4_enc','C12_enc']\n",
    "num_features = ['N2','N3','N7','N10','N13','N14']\n",
    "cat_features = ['C1','C9','C11']"
   ]
  },
  {
   "cell_type": "markdown",
   "metadata": {},
   "source": [
    "# проверим метод КНН"
   ]
  },
  {
   "cell_type": "code",
   "execution_count": 14,
   "metadata": {},
   "outputs": [],
   "source": [
    "num_transformer = Pipeline(steps=[\n",
    "    ('scaler', Normalizer())\n",
    "])\n",
    "cat_transformer = Pipeline(steps=[\n",
    "    ('scaler', Normalizer())    \n",
    "])\n",
    "cat_enc_1_transformer = Pipeline(steps=[\n",
    "     ('scaler', Normalizer())    \n",
    " ])"
   ]
  },
  {
   "cell_type": "code",
   "execution_count": 15,
   "metadata": {},
   "outputs": [],
   "source": [
    "ct = ColumnTransformer(\n",
    "    transformers=[\n",
    "        ('num_transformer', num_transformer, num_features),\n",
    "      ('cat_transformer', cat_transformer, cat_features),\n",
    "         ('cat_enc_1',cat_enc_1_transformer , cat_enc_1),\n",
    "    ],\n",
    "    remainder='passthrough'\n",
    ")"
   ]
  },
  {
   "cell_type": "code",
   "execution_count": 16,
   "metadata": {},
   "outputs": [
    {
     "data": {
      "text/html": [
       "<style>#sk-container-id-1 {color: black;background-color: white;}#sk-container-id-1 pre{padding: 0;}#sk-container-id-1 div.sk-toggleable {background-color: white;}#sk-container-id-1 label.sk-toggleable__label {cursor: pointer;display: block;width: 100%;margin-bottom: 0;padding: 0.3em;box-sizing: border-box;text-align: center;}#sk-container-id-1 label.sk-toggleable__label-arrow:before {content: \"▸\";float: left;margin-right: 0.25em;color: #696969;}#sk-container-id-1 label.sk-toggleable__label-arrow:hover:before {color: black;}#sk-container-id-1 div.sk-estimator:hover label.sk-toggleable__label-arrow:before {color: black;}#sk-container-id-1 div.sk-toggleable__content {max-height: 0;max-width: 0;overflow: hidden;text-align: left;background-color: #f0f8ff;}#sk-container-id-1 div.sk-toggleable__content pre {margin: 0.2em;color: black;border-radius: 0.25em;background-color: #f0f8ff;}#sk-container-id-1 input.sk-toggleable__control:checked~div.sk-toggleable__content {max-height: 200px;max-width: 100%;overflow: auto;}#sk-container-id-1 input.sk-toggleable__control:checked~label.sk-toggleable__label-arrow:before {content: \"▾\";}#sk-container-id-1 div.sk-estimator input.sk-toggleable__control:checked~label.sk-toggleable__label {background-color: #d4ebff;}#sk-container-id-1 div.sk-label input.sk-toggleable__control:checked~label.sk-toggleable__label {background-color: #d4ebff;}#sk-container-id-1 input.sk-hidden--visually {border: 0;clip: rect(1px 1px 1px 1px);clip: rect(1px, 1px, 1px, 1px);height: 1px;margin: -1px;overflow: hidden;padding: 0;position: absolute;width: 1px;}#sk-container-id-1 div.sk-estimator {font-family: monospace;background-color: #f0f8ff;border: 1px dotted black;border-radius: 0.25em;box-sizing: border-box;margin-bottom: 0.5em;}#sk-container-id-1 div.sk-estimator:hover {background-color: #d4ebff;}#sk-container-id-1 div.sk-parallel-item::after {content: \"\";width: 100%;border-bottom: 1px solid gray;flex-grow: 1;}#sk-container-id-1 div.sk-label:hover label.sk-toggleable__label {background-color: #d4ebff;}#sk-container-id-1 div.sk-serial::before {content: \"\";position: absolute;border-left: 1px solid gray;box-sizing: border-box;top: 0;bottom: 0;left: 50%;z-index: 0;}#sk-container-id-1 div.sk-serial {display: flex;flex-direction: column;align-items: center;background-color: white;padding-right: 0.2em;padding-left: 0.2em;position: relative;}#sk-container-id-1 div.sk-item {position: relative;z-index: 1;}#sk-container-id-1 div.sk-parallel {display: flex;align-items: stretch;justify-content: center;background-color: white;position: relative;}#sk-container-id-1 div.sk-item::before, #sk-container-id-1 div.sk-parallel-item::before {content: \"\";position: absolute;border-left: 1px solid gray;box-sizing: border-box;top: 0;bottom: 0;left: 50%;z-index: -1;}#sk-container-id-1 div.sk-parallel-item {display: flex;flex-direction: column;z-index: 1;position: relative;background-color: white;}#sk-container-id-1 div.sk-parallel-item:first-child::after {align-self: flex-end;width: 50%;}#sk-container-id-1 div.sk-parallel-item:last-child::after {align-self: flex-start;width: 50%;}#sk-container-id-1 div.sk-parallel-item:only-child::after {width: 0;}#sk-container-id-1 div.sk-dashed-wrapped {border: 1px dashed gray;margin: 0 0.4em 0.5em 0.4em;box-sizing: border-box;padding-bottom: 0.4em;background-color: white;}#sk-container-id-1 div.sk-label label {font-family: monospace;font-weight: bold;display: inline-block;line-height: 1.2em;}#sk-container-id-1 div.sk-label-container {text-align: center;}#sk-container-id-1 div.sk-container {/* jupyter's `normalize.less` sets `[hidden] { display: none; }` but bootstrap.min.css set `[hidden] { display: none !important; }` so we also need the `!important` here to be able to override the default hidden behavior on the sphinx rendered scikit-learn.org. See: https://github.com/scikit-learn/scikit-learn/issues/21755 */display: inline-block !important;position: relative;}#sk-container-id-1 div.sk-text-repr-fallback {display: none;}</style><div id=\"sk-container-id-1\" class=\"sk-top-container\"><div class=\"sk-text-repr-fallback\"><pre>Pipeline(steps=[(&#x27;preproc&#x27;,\n",
       "                 ColumnTransformer(remainder=&#x27;passthrough&#x27;,\n",
       "                                   transformers=[(&#x27;num_transformer&#x27;,\n",
       "                                                  Pipeline(steps=[(&#x27;scaler&#x27;,\n",
       "                                                                   Normalizer())]),\n",
       "                                                  [&#x27;N2&#x27;, &#x27;N3&#x27;, &#x27;N7&#x27;, &#x27;N10&#x27;,\n",
       "                                                   &#x27;N13&#x27;, &#x27;N14&#x27;]),\n",
       "                                                 (&#x27;cat_transformer&#x27;,\n",
       "                                                  Pipeline(steps=[(&#x27;scaler&#x27;,\n",
       "                                                                   Normalizer())]),\n",
       "                                                  [&#x27;C1&#x27;, &#x27;C9&#x27;, &#x27;C11&#x27;]),\n",
       "                                                 (&#x27;cat_enc_1&#x27;,\n",
       "                                                  Pipeline(steps=[(&#x27;scaler&#x27;,\n",
       "                                                                   Normalizer())]),\n",
       "                                                  [&#x27;C6_enc&#x27;, &#x27;C5_enc&#x27;, &#x27;C4_enc&#x27;,\n",
       "                                                   &#x27;C12_enc&#x27;])])),\n",
       "                (&#x27;estimator&#x27;, KNeighborsClassifier())])</pre><b>In a Jupyter environment, please rerun this cell to show the HTML representation or trust the notebook. <br />On GitHub, the HTML representation is unable to render, please try loading this page with nbviewer.org.</b></div><div class=\"sk-container\" hidden><div class=\"sk-item sk-dashed-wrapped\"><div class=\"sk-label-container\"><div class=\"sk-label sk-toggleable\"><input class=\"sk-toggleable__control sk-hidden--visually\" id=\"sk-estimator-id-1\" type=\"checkbox\" ><label for=\"sk-estimator-id-1\" class=\"sk-toggleable__label sk-toggleable__label-arrow\">Pipeline</label><div class=\"sk-toggleable__content\"><pre>Pipeline(steps=[(&#x27;preproc&#x27;,\n",
       "                 ColumnTransformer(remainder=&#x27;passthrough&#x27;,\n",
       "                                   transformers=[(&#x27;num_transformer&#x27;,\n",
       "                                                  Pipeline(steps=[(&#x27;scaler&#x27;,\n",
       "                                                                   Normalizer())]),\n",
       "                                                  [&#x27;N2&#x27;, &#x27;N3&#x27;, &#x27;N7&#x27;, &#x27;N10&#x27;,\n",
       "                                                   &#x27;N13&#x27;, &#x27;N14&#x27;]),\n",
       "                                                 (&#x27;cat_transformer&#x27;,\n",
       "                                                  Pipeline(steps=[(&#x27;scaler&#x27;,\n",
       "                                                                   Normalizer())]),\n",
       "                                                  [&#x27;C1&#x27;, &#x27;C9&#x27;, &#x27;C11&#x27;]),\n",
       "                                                 (&#x27;cat_enc_1&#x27;,\n",
       "                                                  Pipeline(steps=[(&#x27;scaler&#x27;,\n",
       "                                                                   Normalizer())]),\n",
       "                                                  [&#x27;C6_enc&#x27;, &#x27;C5_enc&#x27;, &#x27;C4_enc&#x27;,\n",
       "                                                   &#x27;C12_enc&#x27;])])),\n",
       "                (&#x27;estimator&#x27;, KNeighborsClassifier())])</pre></div></div></div><div class=\"sk-serial\"><div class=\"sk-item sk-dashed-wrapped\"><div class=\"sk-label-container\"><div class=\"sk-label sk-toggleable\"><input class=\"sk-toggleable__control sk-hidden--visually\" id=\"sk-estimator-id-2\" type=\"checkbox\" ><label for=\"sk-estimator-id-2\" class=\"sk-toggleable__label sk-toggleable__label-arrow\">preproc: ColumnTransformer</label><div class=\"sk-toggleable__content\"><pre>ColumnTransformer(remainder=&#x27;passthrough&#x27;,\n",
       "                  transformers=[(&#x27;num_transformer&#x27;,\n",
       "                                 Pipeline(steps=[(&#x27;scaler&#x27;, Normalizer())]),\n",
       "                                 [&#x27;N2&#x27;, &#x27;N3&#x27;, &#x27;N7&#x27;, &#x27;N10&#x27;, &#x27;N13&#x27;, &#x27;N14&#x27;]),\n",
       "                                (&#x27;cat_transformer&#x27;,\n",
       "                                 Pipeline(steps=[(&#x27;scaler&#x27;, Normalizer())]),\n",
       "                                 [&#x27;C1&#x27;, &#x27;C9&#x27;, &#x27;C11&#x27;]),\n",
       "                                (&#x27;cat_enc_1&#x27;,\n",
       "                                 Pipeline(steps=[(&#x27;scaler&#x27;, Normalizer())]),\n",
       "                                 [&#x27;C6_enc&#x27;, &#x27;C5_enc&#x27;, &#x27;C4_enc&#x27;, &#x27;C12_enc&#x27;])])</pre></div></div></div><div class=\"sk-parallel\"><div class=\"sk-parallel-item\"><div class=\"sk-item\"><div class=\"sk-label-container\"><div class=\"sk-label sk-toggleable\"><input class=\"sk-toggleable__control sk-hidden--visually\" id=\"sk-estimator-id-3\" type=\"checkbox\" ><label for=\"sk-estimator-id-3\" class=\"sk-toggleable__label sk-toggleable__label-arrow\">num_transformer</label><div class=\"sk-toggleable__content\"><pre>[&#x27;N2&#x27;, &#x27;N3&#x27;, &#x27;N7&#x27;, &#x27;N10&#x27;, &#x27;N13&#x27;, &#x27;N14&#x27;]</pre></div></div></div><div class=\"sk-serial\"><div class=\"sk-item\"><div class=\"sk-serial\"><div class=\"sk-item\"><div class=\"sk-estimator sk-toggleable\"><input class=\"sk-toggleable__control sk-hidden--visually\" id=\"sk-estimator-id-4\" type=\"checkbox\" ><label for=\"sk-estimator-id-4\" class=\"sk-toggleable__label sk-toggleable__label-arrow\">Normalizer</label><div class=\"sk-toggleable__content\"><pre>Normalizer()</pre></div></div></div></div></div></div></div></div><div class=\"sk-parallel-item\"><div class=\"sk-item\"><div class=\"sk-label-container\"><div class=\"sk-label sk-toggleable\"><input class=\"sk-toggleable__control sk-hidden--visually\" id=\"sk-estimator-id-5\" type=\"checkbox\" ><label for=\"sk-estimator-id-5\" class=\"sk-toggleable__label sk-toggleable__label-arrow\">cat_transformer</label><div class=\"sk-toggleable__content\"><pre>[&#x27;C1&#x27;, &#x27;C9&#x27;, &#x27;C11&#x27;]</pre></div></div></div><div class=\"sk-serial\"><div class=\"sk-item\"><div class=\"sk-serial\"><div class=\"sk-item\"><div class=\"sk-estimator sk-toggleable\"><input class=\"sk-toggleable__control sk-hidden--visually\" id=\"sk-estimator-id-6\" type=\"checkbox\" ><label for=\"sk-estimator-id-6\" class=\"sk-toggleable__label sk-toggleable__label-arrow\">Normalizer</label><div class=\"sk-toggleable__content\"><pre>Normalizer()</pre></div></div></div></div></div></div></div></div><div class=\"sk-parallel-item\"><div class=\"sk-item\"><div class=\"sk-label-container\"><div class=\"sk-label sk-toggleable\"><input class=\"sk-toggleable__control sk-hidden--visually\" id=\"sk-estimator-id-7\" type=\"checkbox\" ><label for=\"sk-estimator-id-7\" class=\"sk-toggleable__label sk-toggleable__label-arrow\">cat_enc_1</label><div class=\"sk-toggleable__content\"><pre>[&#x27;C6_enc&#x27;, &#x27;C5_enc&#x27;, &#x27;C4_enc&#x27;, &#x27;C12_enc&#x27;]</pre></div></div></div><div class=\"sk-serial\"><div class=\"sk-item\"><div class=\"sk-serial\"><div class=\"sk-item\"><div class=\"sk-estimator sk-toggleable\"><input class=\"sk-toggleable__control sk-hidden--visually\" id=\"sk-estimator-id-8\" type=\"checkbox\" ><label for=\"sk-estimator-id-8\" class=\"sk-toggleable__label sk-toggleable__label-arrow\">Normalizer</label><div class=\"sk-toggleable__content\"><pre>Normalizer()</pre></div></div></div></div></div></div></div></div><div class=\"sk-parallel-item\"><div class=\"sk-item\"><div class=\"sk-label-container\"><div class=\"sk-label sk-toggleable\"><input class=\"sk-toggleable__control sk-hidden--visually\" id=\"sk-estimator-id-9\" type=\"checkbox\" ><label for=\"sk-estimator-id-9\" class=\"sk-toggleable__label sk-toggleable__label-arrow\">remainder</label><div class=\"sk-toggleable__content\"><pre>[&#x27;C8&#x27;]</pre></div></div></div><div class=\"sk-serial\"><div class=\"sk-item\"><div class=\"sk-estimator sk-toggleable\"><input class=\"sk-toggleable__control sk-hidden--visually\" id=\"sk-estimator-id-10\" type=\"checkbox\" ><label for=\"sk-estimator-id-10\" class=\"sk-toggleable__label sk-toggleable__label-arrow\">passthrough</label><div class=\"sk-toggleable__content\"><pre>passthrough</pre></div></div></div></div></div></div></div></div><div class=\"sk-item\"><div class=\"sk-estimator sk-toggleable\"><input class=\"sk-toggleable__control sk-hidden--visually\" id=\"sk-estimator-id-11\" type=\"checkbox\" ><label for=\"sk-estimator-id-11\" class=\"sk-toggleable__label sk-toggleable__label-arrow\">KNeighborsClassifier</label><div class=\"sk-toggleable__content\"><pre>KNeighborsClassifier()</pre></div></div></div></div></div></div></div>"
      ],
      "text/plain": [
       "Pipeline(steps=[('preproc',\n",
       "                 ColumnTransformer(remainder='passthrough',\n",
       "                                   transformers=[('num_transformer',\n",
       "                                                  Pipeline(steps=[('scaler',\n",
       "                                                                   Normalizer())]),\n",
       "                                                  ['N2', 'N3', 'N7', 'N10',\n",
       "                                                   'N13', 'N14']),\n",
       "                                                 ('cat_transformer',\n",
       "                                                  Pipeline(steps=[('scaler',\n",
       "                                                                   Normalizer())]),\n",
       "                                                  ['C1', 'C9', 'C11']),\n",
       "                                                 ('cat_enc_1',\n",
       "                                                  Pipeline(steps=[('scaler',\n",
       "                                                                   Normalizer())]),\n",
       "                                                  ['C6_enc', 'C5_enc', 'C4_enc',\n",
       "                                                   'C12_enc'])])),\n",
       "                ('estimator', KNeighborsClassifier())])"
      ]
     },
     "execution_count": 16,
     "metadata": {},
     "output_type": "execute_result"
    }
   ],
   "source": [
    "model_baseline =Pipeline(steps=[\n",
    "        ('preproc', ct),\n",
    "        ('estimator', KNeighborsClassifier())\n",
    "    ],\n",
    ")\n",
    "model_baseline.fit(X_train, y_train)"
   ]
  },
  {
   "cell_type": "code",
   "execution_count": 17,
   "metadata": {},
   "outputs": [],
   "source": [
    "param_grid_base = {\n",
    "    'preproc__num_transformer__scaler' :[StandardScaler(), RobustScaler(), MinMaxScaler(), Normalizer()],\n",
    "     'preproc__cat_transformer__scaler' :[StandardScaler(), RobustScaler(),MinMaxScaler()],\n",
    "     'preproc__cat_enc_1__scaler' :[StandardScaler(), RobustScaler(),MinMaxScaler()],\n",
    "   'estimator__n_neighbors': [30, 35, 40, 45, 50],\n",
    "    'estimator__p': [2,3,4],\n",
    "    'estimator__weights': ['uniform', 'distance']  \n",
    "}"
   ]
  },
  {
   "cell_type": "code",
   "execution_count": 18,
   "metadata": {},
   "outputs": [
    {
     "data": {
      "text/html": [
       "<style>#sk-container-id-2 {color: black;background-color: white;}#sk-container-id-2 pre{padding: 0;}#sk-container-id-2 div.sk-toggleable {background-color: white;}#sk-container-id-2 label.sk-toggleable__label {cursor: pointer;display: block;width: 100%;margin-bottom: 0;padding: 0.3em;box-sizing: border-box;text-align: center;}#sk-container-id-2 label.sk-toggleable__label-arrow:before {content: \"▸\";float: left;margin-right: 0.25em;color: #696969;}#sk-container-id-2 label.sk-toggleable__label-arrow:hover:before {color: black;}#sk-container-id-2 div.sk-estimator:hover label.sk-toggleable__label-arrow:before {color: black;}#sk-container-id-2 div.sk-toggleable__content {max-height: 0;max-width: 0;overflow: hidden;text-align: left;background-color: #f0f8ff;}#sk-container-id-2 div.sk-toggleable__content pre {margin: 0.2em;color: black;border-radius: 0.25em;background-color: #f0f8ff;}#sk-container-id-2 input.sk-toggleable__control:checked~div.sk-toggleable__content {max-height: 200px;max-width: 100%;overflow: auto;}#sk-container-id-2 input.sk-toggleable__control:checked~label.sk-toggleable__label-arrow:before {content: \"▾\";}#sk-container-id-2 div.sk-estimator input.sk-toggleable__control:checked~label.sk-toggleable__label {background-color: #d4ebff;}#sk-container-id-2 div.sk-label input.sk-toggleable__control:checked~label.sk-toggleable__label {background-color: #d4ebff;}#sk-container-id-2 input.sk-hidden--visually {border: 0;clip: rect(1px 1px 1px 1px);clip: rect(1px, 1px, 1px, 1px);height: 1px;margin: -1px;overflow: hidden;padding: 0;position: absolute;width: 1px;}#sk-container-id-2 div.sk-estimator {font-family: monospace;background-color: #f0f8ff;border: 1px dotted black;border-radius: 0.25em;box-sizing: border-box;margin-bottom: 0.5em;}#sk-container-id-2 div.sk-estimator:hover {background-color: #d4ebff;}#sk-container-id-2 div.sk-parallel-item::after {content: \"\";width: 100%;border-bottom: 1px solid gray;flex-grow: 1;}#sk-container-id-2 div.sk-label:hover label.sk-toggleable__label {background-color: #d4ebff;}#sk-container-id-2 div.sk-serial::before {content: \"\";position: absolute;border-left: 1px solid gray;box-sizing: border-box;top: 0;bottom: 0;left: 50%;z-index: 0;}#sk-container-id-2 div.sk-serial {display: flex;flex-direction: column;align-items: center;background-color: white;padding-right: 0.2em;padding-left: 0.2em;position: relative;}#sk-container-id-2 div.sk-item {position: relative;z-index: 1;}#sk-container-id-2 div.sk-parallel {display: flex;align-items: stretch;justify-content: center;background-color: white;position: relative;}#sk-container-id-2 div.sk-item::before, #sk-container-id-2 div.sk-parallel-item::before {content: \"\";position: absolute;border-left: 1px solid gray;box-sizing: border-box;top: 0;bottom: 0;left: 50%;z-index: -1;}#sk-container-id-2 div.sk-parallel-item {display: flex;flex-direction: column;z-index: 1;position: relative;background-color: white;}#sk-container-id-2 div.sk-parallel-item:first-child::after {align-self: flex-end;width: 50%;}#sk-container-id-2 div.sk-parallel-item:last-child::after {align-self: flex-start;width: 50%;}#sk-container-id-2 div.sk-parallel-item:only-child::after {width: 0;}#sk-container-id-2 div.sk-dashed-wrapped {border: 1px dashed gray;margin: 0 0.4em 0.5em 0.4em;box-sizing: border-box;padding-bottom: 0.4em;background-color: white;}#sk-container-id-2 div.sk-label label {font-family: monospace;font-weight: bold;display: inline-block;line-height: 1.2em;}#sk-container-id-2 div.sk-label-container {text-align: center;}#sk-container-id-2 div.sk-container {/* jupyter's `normalize.less` sets `[hidden] { display: none; }` but bootstrap.min.css set `[hidden] { display: none !important; }` so we also need the `!important` here to be able to override the default hidden behavior on the sphinx rendered scikit-learn.org. See: https://github.com/scikit-learn/scikit-learn/issues/21755 */display: inline-block !important;position: relative;}#sk-container-id-2 div.sk-text-repr-fallback {display: none;}</style><div id=\"sk-container-id-2\" class=\"sk-top-container\"><div class=\"sk-text-repr-fallback\"><pre>GridSearchCV(estimator=Pipeline(steps=[(&#x27;preproc&#x27;,\n",
       "                                        ColumnTransformer(remainder=&#x27;passthrough&#x27;,\n",
       "                                                          transformers=[(&#x27;num_transformer&#x27;,\n",
       "                                                                         Pipeline(steps=[(&#x27;scaler&#x27;,\n",
       "                                                                                          Normalizer())]),\n",
       "                                                                         [&#x27;N2&#x27;,\n",
       "                                                                          &#x27;N3&#x27;,\n",
       "                                                                          &#x27;N7&#x27;,\n",
       "                                                                          &#x27;N10&#x27;,\n",
       "                                                                          &#x27;N13&#x27;,\n",
       "                                                                          &#x27;N14&#x27;]),\n",
       "                                                                        (&#x27;cat_transformer&#x27;,\n",
       "                                                                         Pipeline(steps=[(&#x27;scaler&#x27;,\n",
       "                                                                                          Normalizer())]),\n",
       "                                                                         [&#x27;C1&#x27;,\n",
       "                                                                          &#x27;C9&#x27;,\n",
       "                                                                          &#x27;C11&#x27;]),\n",
       "                                                                        (&#x27;cat_enc_1&#x27;,\n",
       "                                                                         Pipeline(steps=[(&#x27;scaler&#x27;,\n",
       "                                                                                          Normalizer())]),\n",
       "                                                                         [&#x27;C6_enc&#x27;,\n",
       "                                                                          &#x27;C...\n",
       "             param_grid={&#x27;estimator__n_neighbors&#x27;: [30, 35, 40, 45, 50],\n",
       "                         &#x27;estimator__p&#x27;: [2, 3, 4],\n",
       "                         &#x27;estimator__weights&#x27;: [&#x27;uniform&#x27;, &#x27;distance&#x27;],\n",
       "                         &#x27;preproc__cat_enc_1__scaler&#x27;: [StandardScaler(),\n",
       "                                                        RobustScaler(),\n",
       "                                                        MinMaxScaler()],\n",
       "                         &#x27;preproc__cat_transformer__scaler&#x27;: [StandardScaler(),\n",
       "                                                              RobustScaler(),\n",
       "                                                              MinMaxScaler()],\n",
       "                         &#x27;preproc__num_transformer__scaler&#x27;: [StandardScaler(),\n",
       "                                                              RobustScaler(),\n",
       "                                                              MinMaxScaler(),\n",
       "                                                              Normalizer()]},\n",
       "             scoring=&#x27;f1&#x27;)</pre><b>In a Jupyter environment, please rerun this cell to show the HTML representation or trust the notebook. <br />On GitHub, the HTML representation is unable to render, please try loading this page with nbviewer.org.</b></div><div class=\"sk-container\" hidden><div class=\"sk-item sk-dashed-wrapped\"><div class=\"sk-label-container\"><div class=\"sk-label sk-toggleable\"><input class=\"sk-toggleable__control sk-hidden--visually\" id=\"sk-estimator-id-12\" type=\"checkbox\" ><label for=\"sk-estimator-id-12\" class=\"sk-toggleable__label sk-toggleable__label-arrow\">GridSearchCV</label><div class=\"sk-toggleable__content\"><pre>GridSearchCV(estimator=Pipeline(steps=[(&#x27;preproc&#x27;,\n",
       "                                        ColumnTransformer(remainder=&#x27;passthrough&#x27;,\n",
       "                                                          transformers=[(&#x27;num_transformer&#x27;,\n",
       "                                                                         Pipeline(steps=[(&#x27;scaler&#x27;,\n",
       "                                                                                          Normalizer())]),\n",
       "                                                                         [&#x27;N2&#x27;,\n",
       "                                                                          &#x27;N3&#x27;,\n",
       "                                                                          &#x27;N7&#x27;,\n",
       "                                                                          &#x27;N10&#x27;,\n",
       "                                                                          &#x27;N13&#x27;,\n",
       "                                                                          &#x27;N14&#x27;]),\n",
       "                                                                        (&#x27;cat_transformer&#x27;,\n",
       "                                                                         Pipeline(steps=[(&#x27;scaler&#x27;,\n",
       "                                                                                          Normalizer())]),\n",
       "                                                                         [&#x27;C1&#x27;,\n",
       "                                                                          &#x27;C9&#x27;,\n",
       "                                                                          &#x27;C11&#x27;]),\n",
       "                                                                        (&#x27;cat_enc_1&#x27;,\n",
       "                                                                         Pipeline(steps=[(&#x27;scaler&#x27;,\n",
       "                                                                                          Normalizer())]),\n",
       "                                                                         [&#x27;C6_enc&#x27;,\n",
       "                                                                          &#x27;C...\n",
       "             param_grid={&#x27;estimator__n_neighbors&#x27;: [30, 35, 40, 45, 50],\n",
       "                         &#x27;estimator__p&#x27;: [2, 3, 4],\n",
       "                         &#x27;estimator__weights&#x27;: [&#x27;uniform&#x27;, &#x27;distance&#x27;],\n",
       "                         &#x27;preproc__cat_enc_1__scaler&#x27;: [StandardScaler(),\n",
       "                                                        RobustScaler(),\n",
       "                                                        MinMaxScaler()],\n",
       "                         &#x27;preproc__cat_transformer__scaler&#x27;: [StandardScaler(),\n",
       "                                                              RobustScaler(),\n",
       "                                                              MinMaxScaler()],\n",
       "                         &#x27;preproc__num_transformer__scaler&#x27;: [StandardScaler(),\n",
       "                                                              RobustScaler(),\n",
       "                                                              MinMaxScaler(),\n",
       "                                                              Normalizer()]},\n",
       "             scoring=&#x27;f1&#x27;)</pre></div></div></div><div class=\"sk-parallel\"><div class=\"sk-parallel-item\"><div class=\"sk-item\"><div class=\"sk-label-container\"><div class=\"sk-label sk-toggleable\"><input class=\"sk-toggleable__control sk-hidden--visually\" id=\"sk-estimator-id-13\" type=\"checkbox\" ><label for=\"sk-estimator-id-13\" class=\"sk-toggleable__label sk-toggleable__label-arrow\">estimator: Pipeline</label><div class=\"sk-toggleable__content\"><pre>Pipeline(steps=[(&#x27;preproc&#x27;,\n",
       "                 ColumnTransformer(remainder=&#x27;passthrough&#x27;,\n",
       "                                   transformers=[(&#x27;num_transformer&#x27;,\n",
       "                                                  Pipeline(steps=[(&#x27;scaler&#x27;,\n",
       "                                                                   Normalizer())]),\n",
       "                                                  [&#x27;N2&#x27;, &#x27;N3&#x27;, &#x27;N7&#x27;, &#x27;N10&#x27;,\n",
       "                                                   &#x27;N13&#x27;, &#x27;N14&#x27;]),\n",
       "                                                 (&#x27;cat_transformer&#x27;,\n",
       "                                                  Pipeline(steps=[(&#x27;scaler&#x27;,\n",
       "                                                                   Normalizer())]),\n",
       "                                                  [&#x27;C1&#x27;, &#x27;C9&#x27;, &#x27;C11&#x27;]),\n",
       "                                                 (&#x27;cat_enc_1&#x27;,\n",
       "                                                  Pipeline(steps=[(&#x27;scaler&#x27;,\n",
       "                                                                   Normalizer())]),\n",
       "                                                  [&#x27;C6_enc&#x27;, &#x27;C5_enc&#x27;, &#x27;C4_enc&#x27;,\n",
       "                                                   &#x27;C12_enc&#x27;])])),\n",
       "                (&#x27;estimator&#x27;, KNeighborsClassifier())])</pre></div></div></div><div class=\"sk-serial\"><div class=\"sk-item\"><div class=\"sk-serial\"><div class=\"sk-item sk-dashed-wrapped\"><div class=\"sk-label-container\"><div class=\"sk-label sk-toggleable\"><input class=\"sk-toggleable__control sk-hidden--visually\" id=\"sk-estimator-id-14\" type=\"checkbox\" ><label for=\"sk-estimator-id-14\" class=\"sk-toggleable__label sk-toggleable__label-arrow\">preproc: ColumnTransformer</label><div class=\"sk-toggleable__content\"><pre>ColumnTransformer(remainder=&#x27;passthrough&#x27;,\n",
       "                  transformers=[(&#x27;num_transformer&#x27;,\n",
       "                                 Pipeline(steps=[(&#x27;scaler&#x27;, Normalizer())]),\n",
       "                                 [&#x27;N2&#x27;, &#x27;N3&#x27;, &#x27;N7&#x27;, &#x27;N10&#x27;, &#x27;N13&#x27;, &#x27;N14&#x27;]),\n",
       "                                (&#x27;cat_transformer&#x27;,\n",
       "                                 Pipeline(steps=[(&#x27;scaler&#x27;, Normalizer())]),\n",
       "                                 [&#x27;C1&#x27;, &#x27;C9&#x27;, &#x27;C11&#x27;]),\n",
       "                                (&#x27;cat_enc_1&#x27;,\n",
       "                                 Pipeline(steps=[(&#x27;scaler&#x27;, Normalizer())]),\n",
       "                                 [&#x27;C6_enc&#x27;, &#x27;C5_enc&#x27;, &#x27;C4_enc&#x27;, &#x27;C12_enc&#x27;])])</pre></div></div></div><div class=\"sk-parallel\"><div class=\"sk-parallel-item\"><div class=\"sk-item\"><div class=\"sk-label-container\"><div class=\"sk-label sk-toggleable\"><input class=\"sk-toggleable__control sk-hidden--visually\" id=\"sk-estimator-id-15\" type=\"checkbox\" ><label for=\"sk-estimator-id-15\" class=\"sk-toggleable__label sk-toggleable__label-arrow\">num_transformer</label><div class=\"sk-toggleable__content\"><pre>[&#x27;N2&#x27;, &#x27;N3&#x27;, &#x27;N7&#x27;, &#x27;N10&#x27;, &#x27;N13&#x27;, &#x27;N14&#x27;]</pre></div></div></div><div class=\"sk-serial\"><div class=\"sk-item\"><div class=\"sk-serial\"><div class=\"sk-item\"><div class=\"sk-estimator sk-toggleable\"><input class=\"sk-toggleable__control sk-hidden--visually\" id=\"sk-estimator-id-16\" type=\"checkbox\" ><label for=\"sk-estimator-id-16\" class=\"sk-toggleable__label sk-toggleable__label-arrow\">Normalizer</label><div class=\"sk-toggleable__content\"><pre>Normalizer()</pre></div></div></div></div></div></div></div></div><div class=\"sk-parallel-item\"><div class=\"sk-item\"><div class=\"sk-label-container\"><div class=\"sk-label sk-toggleable\"><input class=\"sk-toggleable__control sk-hidden--visually\" id=\"sk-estimator-id-17\" type=\"checkbox\" ><label for=\"sk-estimator-id-17\" class=\"sk-toggleable__label sk-toggleable__label-arrow\">cat_transformer</label><div class=\"sk-toggleable__content\"><pre>[&#x27;C1&#x27;, &#x27;C9&#x27;, &#x27;C11&#x27;]</pre></div></div></div><div class=\"sk-serial\"><div class=\"sk-item\"><div class=\"sk-serial\"><div class=\"sk-item\"><div class=\"sk-estimator sk-toggleable\"><input class=\"sk-toggleable__control sk-hidden--visually\" id=\"sk-estimator-id-18\" type=\"checkbox\" ><label for=\"sk-estimator-id-18\" class=\"sk-toggleable__label sk-toggleable__label-arrow\">Normalizer</label><div class=\"sk-toggleable__content\"><pre>Normalizer()</pre></div></div></div></div></div></div></div></div><div class=\"sk-parallel-item\"><div class=\"sk-item\"><div class=\"sk-label-container\"><div class=\"sk-label sk-toggleable\"><input class=\"sk-toggleable__control sk-hidden--visually\" id=\"sk-estimator-id-19\" type=\"checkbox\" ><label for=\"sk-estimator-id-19\" class=\"sk-toggleable__label sk-toggleable__label-arrow\">cat_enc_1</label><div class=\"sk-toggleable__content\"><pre>[&#x27;C6_enc&#x27;, &#x27;C5_enc&#x27;, &#x27;C4_enc&#x27;, &#x27;C12_enc&#x27;]</pre></div></div></div><div class=\"sk-serial\"><div class=\"sk-item\"><div class=\"sk-serial\"><div class=\"sk-item\"><div class=\"sk-estimator sk-toggleable\"><input class=\"sk-toggleable__control sk-hidden--visually\" id=\"sk-estimator-id-20\" type=\"checkbox\" ><label for=\"sk-estimator-id-20\" class=\"sk-toggleable__label sk-toggleable__label-arrow\">Normalizer</label><div class=\"sk-toggleable__content\"><pre>Normalizer()</pre></div></div></div></div></div></div></div></div><div class=\"sk-parallel-item\"><div class=\"sk-item\"><div class=\"sk-label-container\"><div class=\"sk-label sk-toggleable\"><input class=\"sk-toggleable__control sk-hidden--visually\" id=\"sk-estimator-id-21\" type=\"checkbox\" ><label for=\"sk-estimator-id-21\" class=\"sk-toggleable__label sk-toggleable__label-arrow\">remainder</label><div class=\"sk-toggleable__content\"><pre>[&#x27;C8&#x27;]</pre></div></div></div><div class=\"sk-serial\"><div class=\"sk-item\"><div class=\"sk-estimator sk-toggleable\"><input class=\"sk-toggleable__control sk-hidden--visually\" id=\"sk-estimator-id-22\" type=\"checkbox\" ><label for=\"sk-estimator-id-22\" class=\"sk-toggleable__label sk-toggleable__label-arrow\">passthrough</label><div class=\"sk-toggleable__content\"><pre>passthrough</pre></div></div></div></div></div></div></div></div><div class=\"sk-item\"><div class=\"sk-estimator sk-toggleable\"><input class=\"sk-toggleable__control sk-hidden--visually\" id=\"sk-estimator-id-23\" type=\"checkbox\" ><label for=\"sk-estimator-id-23\" class=\"sk-toggleable__label sk-toggleable__label-arrow\">KNeighborsClassifier</label><div class=\"sk-toggleable__content\"><pre>KNeighborsClassifier()</pre></div></div></div></div></div></div></div></div></div></div></div></div>"
      ],
      "text/plain": [
       "GridSearchCV(estimator=Pipeline(steps=[('preproc',\n",
       "                                        ColumnTransformer(remainder='passthrough',\n",
       "                                                          transformers=[('num_transformer',\n",
       "                                                                         Pipeline(steps=[('scaler',\n",
       "                                                                                          Normalizer())]),\n",
       "                                                                         ['N2',\n",
       "                                                                          'N3',\n",
       "                                                                          'N7',\n",
       "                                                                          'N10',\n",
       "                                                                          'N13',\n",
       "                                                                          'N14']),\n",
       "                                                                        ('cat_transformer',\n",
       "                                                                         Pipeline(steps=[('scaler',\n",
       "                                                                                          Normalizer())]),\n",
       "                                                                         ['C1',\n",
       "                                                                          'C9',\n",
       "                                                                          'C11']),\n",
       "                                                                        ('cat_enc_1',\n",
       "                                                                         Pipeline(steps=[('scaler',\n",
       "                                                                                          Normalizer())]),\n",
       "                                                                         ['C6_enc',\n",
       "                                                                          'C...\n",
       "             param_grid={'estimator__n_neighbors': [30, 35, 40, 45, 50],\n",
       "                         'estimator__p': [2, 3, 4],\n",
       "                         'estimator__weights': ['uniform', 'distance'],\n",
       "                         'preproc__cat_enc_1__scaler': [StandardScaler(),\n",
       "                                                        RobustScaler(),\n",
       "                                                        MinMaxScaler()],\n",
       "                         'preproc__cat_transformer__scaler': [StandardScaler(),\n",
       "                                                              RobustScaler(),\n",
       "                                                              MinMaxScaler()],\n",
       "                         'preproc__num_transformer__scaler': [StandardScaler(),\n",
       "                                                              RobustScaler(),\n",
       "                                                              MinMaxScaler(),\n",
       "                                                              Normalizer()]},\n",
       "             scoring='f1')"
      ]
     },
     "execution_count": 18,
     "metadata": {},
     "output_type": "execute_result"
    }
   ],
   "source": [
    "baseline_grid = GridSearchCV(model_baseline, n_jobs=-1, param_grid=param_grid_base, scoring='f1')\n",
    "baseline_grid.fit(X_train, y_train)"
   ]
  },
  {
   "cell_type": "code",
   "execution_count": 19,
   "metadata": {},
   "outputs": [
    {
     "name": "stdout",
     "output_type": "stream",
     "text": [
      "Лучшие параметры: {'estimator__n_neighbors': 40, 'estimator__p': 3, 'estimator__weights': 'uniform', 'preproc__cat_enc_1__scaler': MinMaxScaler(), 'preproc__cat_transformer__scaler': RobustScaler(), 'preproc__num_transformer__scaler': MinMaxScaler()}\n"
     ]
    }
   ],
   "source": [
    "print(\"Лучшие параметры:\", baseline_grid.best_params_)"
   ]
  },
  {
   "cell_type": "code",
   "execution_count": 20,
   "metadata": {},
   "outputs": [
    {
     "name": "stdout",
     "output_type": "stream",
     "text": [
      "Метрика F1 модели :  0.8275862068965516\n"
     ]
    }
   ],
   "source": [
    "y_pred = baseline_grid.predict(X_test)\n",
    "f1 = f1_score(y_test, y_pred)\n",
    "print(\"Метрика F1 модели : \", f1)"
   ]
  },
  {
   "cell_type": "markdown",
   "metadata": {},
   "source": [
    "# Проверим метод градиентного бустинга"
   ]
  },
  {
   "cell_type": "code",
   "execution_count": 21,
   "metadata": {},
   "outputs": [],
   "source": [
    "num_transformer = Pipeline(steps=[\n",
    "    ('scaler', Normalizer())\n",
    "])\n",
    "cat_transformer = Pipeline(steps=[\n",
    "    ('scaler', Normalizer())    \n",
    "])\n",
    "cat_enc_1_transformer = Pipeline(steps=[\n",
    "     ('scaler', Normalizer())    \n",
    " ])"
   ]
  },
  {
   "cell_type": "code",
   "execution_count": 22,
   "metadata": {},
   "outputs": [],
   "source": [
    "ct = ColumnTransformer(\n",
    "    transformers=[\n",
    "        ('num_transformer', num_transformer, num_features),\n",
    "      ('cat_transformer', cat_transformer, cat_features),\n",
    "         ('cat_enc_1',cat_enc_1_transformer , cat_enc_1),\n",
    "    ],\n",
    "    remainder='passthrough'\n",
    ")"
   ]
  },
  {
   "cell_type": "code",
   "execution_count": 23,
   "metadata": {},
   "outputs": [
    {
     "data": {
      "text/html": [
       "<style>#sk-container-id-3 {color: black;background-color: white;}#sk-container-id-3 pre{padding: 0;}#sk-container-id-3 div.sk-toggleable {background-color: white;}#sk-container-id-3 label.sk-toggleable__label {cursor: pointer;display: block;width: 100%;margin-bottom: 0;padding: 0.3em;box-sizing: border-box;text-align: center;}#sk-container-id-3 label.sk-toggleable__label-arrow:before {content: \"▸\";float: left;margin-right: 0.25em;color: #696969;}#sk-container-id-3 label.sk-toggleable__label-arrow:hover:before {color: black;}#sk-container-id-3 div.sk-estimator:hover label.sk-toggleable__label-arrow:before {color: black;}#sk-container-id-3 div.sk-toggleable__content {max-height: 0;max-width: 0;overflow: hidden;text-align: left;background-color: #f0f8ff;}#sk-container-id-3 div.sk-toggleable__content pre {margin: 0.2em;color: black;border-radius: 0.25em;background-color: #f0f8ff;}#sk-container-id-3 input.sk-toggleable__control:checked~div.sk-toggleable__content {max-height: 200px;max-width: 100%;overflow: auto;}#sk-container-id-3 input.sk-toggleable__control:checked~label.sk-toggleable__label-arrow:before {content: \"▾\";}#sk-container-id-3 div.sk-estimator input.sk-toggleable__control:checked~label.sk-toggleable__label {background-color: #d4ebff;}#sk-container-id-3 div.sk-label input.sk-toggleable__control:checked~label.sk-toggleable__label {background-color: #d4ebff;}#sk-container-id-3 input.sk-hidden--visually {border: 0;clip: rect(1px 1px 1px 1px);clip: rect(1px, 1px, 1px, 1px);height: 1px;margin: -1px;overflow: hidden;padding: 0;position: absolute;width: 1px;}#sk-container-id-3 div.sk-estimator {font-family: monospace;background-color: #f0f8ff;border: 1px dotted black;border-radius: 0.25em;box-sizing: border-box;margin-bottom: 0.5em;}#sk-container-id-3 div.sk-estimator:hover {background-color: #d4ebff;}#sk-container-id-3 div.sk-parallel-item::after {content: \"\";width: 100%;border-bottom: 1px solid gray;flex-grow: 1;}#sk-container-id-3 div.sk-label:hover label.sk-toggleable__label {background-color: #d4ebff;}#sk-container-id-3 div.sk-serial::before {content: \"\";position: absolute;border-left: 1px solid gray;box-sizing: border-box;top: 0;bottom: 0;left: 50%;z-index: 0;}#sk-container-id-3 div.sk-serial {display: flex;flex-direction: column;align-items: center;background-color: white;padding-right: 0.2em;padding-left: 0.2em;position: relative;}#sk-container-id-3 div.sk-item {position: relative;z-index: 1;}#sk-container-id-3 div.sk-parallel {display: flex;align-items: stretch;justify-content: center;background-color: white;position: relative;}#sk-container-id-3 div.sk-item::before, #sk-container-id-3 div.sk-parallel-item::before {content: \"\";position: absolute;border-left: 1px solid gray;box-sizing: border-box;top: 0;bottom: 0;left: 50%;z-index: -1;}#sk-container-id-3 div.sk-parallel-item {display: flex;flex-direction: column;z-index: 1;position: relative;background-color: white;}#sk-container-id-3 div.sk-parallel-item:first-child::after {align-self: flex-end;width: 50%;}#sk-container-id-3 div.sk-parallel-item:last-child::after {align-self: flex-start;width: 50%;}#sk-container-id-3 div.sk-parallel-item:only-child::after {width: 0;}#sk-container-id-3 div.sk-dashed-wrapped {border: 1px dashed gray;margin: 0 0.4em 0.5em 0.4em;box-sizing: border-box;padding-bottom: 0.4em;background-color: white;}#sk-container-id-3 div.sk-label label {font-family: monospace;font-weight: bold;display: inline-block;line-height: 1.2em;}#sk-container-id-3 div.sk-label-container {text-align: center;}#sk-container-id-3 div.sk-container {/* jupyter's `normalize.less` sets `[hidden] { display: none; }` but bootstrap.min.css set `[hidden] { display: none !important; }` so we also need the `!important` here to be able to override the default hidden behavior on the sphinx rendered scikit-learn.org. See: https://github.com/scikit-learn/scikit-learn/issues/21755 */display: inline-block !important;position: relative;}#sk-container-id-3 div.sk-text-repr-fallback {display: none;}</style><div id=\"sk-container-id-3\" class=\"sk-top-container\"><div class=\"sk-text-repr-fallback\"><pre>Pipeline(steps=[(&#x27;preproc&#x27;,\n",
       "                 ColumnTransformer(remainder=&#x27;passthrough&#x27;,\n",
       "                                   transformers=[(&#x27;num_transformer&#x27;,\n",
       "                                                  Pipeline(steps=[(&#x27;scaler&#x27;,\n",
       "                                                                   Normalizer())]),\n",
       "                                                  [&#x27;N2&#x27;, &#x27;N3&#x27;, &#x27;N7&#x27;, &#x27;N10&#x27;,\n",
       "                                                   &#x27;N13&#x27;, &#x27;N14&#x27;]),\n",
       "                                                 (&#x27;cat_transformer&#x27;,\n",
       "                                                  Pipeline(steps=[(&#x27;scaler&#x27;,\n",
       "                                                                   Normalizer())]),\n",
       "                                                  [&#x27;C1&#x27;, &#x27;C9&#x27;, &#x27;C11&#x27;]),\n",
       "                                                 (&#x27;cat_enc_1&#x27;,\n",
       "                                                  Pipeline(steps=[(&#x27;scaler&#x27;,\n",
       "                                                                   Normalizer())]),\n",
       "                                                  [&#x27;C6_enc&#x27;, &#x27;C5_enc&#x27;, &#x27;C4_enc&#x27;,\n",
       "                                                   &#x27;C12_enc&#x27;])])),\n",
       "                (&#x27;estimator&#x27;, GradientBoostingClassifier())])</pre><b>In a Jupyter environment, please rerun this cell to show the HTML representation or trust the notebook. <br />On GitHub, the HTML representation is unable to render, please try loading this page with nbviewer.org.</b></div><div class=\"sk-container\" hidden><div class=\"sk-item sk-dashed-wrapped\"><div class=\"sk-label-container\"><div class=\"sk-label sk-toggleable\"><input class=\"sk-toggleable__control sk-hidden--visually\" id=\"sk-estimator-id-24\" type=\"checkbox\" ><label for=\"sk-estimator-id-24\" class=\"sk-toggleable__label sk-toggleable__label-arrow\">Pipeline</label><div class=\"sk-toggleable__content\"><pre>Pipeline(steps=[(&#x27;preproc&#x27;,\n",
       "                 ColumnTransformer(remainder=&#x27;passthrough&#x27;,\n",
       "                                   transformers=[(&#x27;num_transformer&#x27;,\n",
       "                                                  Pipeline(steps=[(&#x27;scaler&#x27;,\n",
       "                                                                   Normalizer())]),\n",
       "                                                  [&#x27;N2&#x27;, &#x27;N3&#x27;, &#x27;N7&#x27;, &#x27;N10&#x27;,\n",
       "                                                   &#x27;N13&#x27;, &#x27;N14&#x27;]),\n",
       "                                                 (&#x27;cat_transformer&#x27;,\n",
       "                                                  Pipeline(steps=[(&#x27;scaler&#x27;,\n",
       "                                                                   Normalizer())]),\n",
       "                                                  [&#x27;C1&#x27;, &#x27;C9&#x27;, &#x27;C11&#x27;]),\n",
       "                                                 (&#x27;cat_enc_1&#x27;,\n",
       "                                                  Pipeline(steps=[(&#x27;scaler&#x27;,\n",
       "                                                                   Normalizer())]),\n",
       "                                                  [&#x27;C6_enc&#x27;, &#x27;C5_enc&#x27;, &#x27;C4_enc&#x27;,\n",
       "                                                   &#x27;C12_enc&#x27;])])),\n",
       "                (&#x27;estimator&#x27;, GradientBoostingClassifier())])</pre></div></div></div><div class=\"sk-serial\"><div class=\"sk-item sk-dashed-wrapped\"><div class=\"sk-label-container\"><div class=\"sk-label sk-toggleable\"><input class=\"sk-toggleable__control sk-hidden--visually\" id=\"sk-estimator-id-25\" type=\"checkbox\" ><label for=\"sk-estimator-id-25\" class=\"sk-toggleable__label sk-toggleable__label-arrow\">preproc: ColumnTransformer</label><div class=\"sk-toggleable__content\"><pre>ColumnTransformer(remainder=&#x27;passthrough&#x27;,\n",
       "                  transformers=[(&#x27;num_transformer&#x27;,\n",
       "                                 Pipeline(steps=[(&#x27;scaler&#x27;, Normalizer())]),\n",
       "                                 [&#x27;N2&#x27;, &#x27;N3&#x27;, &#x27;N7&#x27;, &#x27;N10&#x27;, &#x27;N13&#x27;, &#x27;N14&#x27;]),\n",
       "                                (&#x27;cat_transformer&#x27;,\n",
       "                                 Pipeline(steps=[(&#x27;scaler&#x27;, Normalizer())]),\n",
       "                                 [&#x27;C1&#x27;, &#x27;C9&#x27;, &#x27;C11&#x27;]),\n",
       "                                (&#x27;cat_enc_1&#x27;,\n",
       "                                 Pipeline(steps=[(&#x27;scaler&#x27;, Normalizer())]),\n",
       "                                 [&#x27;C6_enc&#x27;, &#x27;C5_enc&#x27;, &#x27;C4_enc&#x27;, &#x27;C12_enc&#x27;])])</pre></div></div></div><div class=\"sk-parallel\"><div class=\"sk-parallel-item\"><div class=\"sk-item\"><div class=\"sk-label-container\"><div class=\"sk-label sk-toggleable\"><input class=\"sk-toggleable__control sk-hidden--visually\" id=\"sk-estimator-id-26\" type=\"checkbox\" ><label for=\"sk-estimator-id-26\" class=\"sk-toggleable__label sk-toggleable__label-arrow\">num_transformer</label><div class=\"sk-toggleable__content\"><pre>[&#x27;N2&#x27;, &#x27;N3&#x27;, &#x27;N7&#x27;, &#x27;N10&#x27;, &#x27;N13&#x27;, &#x27;N14&#x27;]</pre></div></div></div><div class=\"sk-serial\"><div class=\"sk-item\"><div class=\"sk-serial\"><div class=\"sk-item\"><div class=\"sk-estimator sk-toggleable\"><input class=\"sk-toggleable__control sk-hidden--visually\" id=\"sk-estimator-id-27\" type=\"checkbox\" ><label for=\"sk-estimator-id-27\" class=\"sk-toggleable__label sk-toggleable__label-arrow\">Normalizer</label><div class=\"sk-toggleable__content\"><pre>Normalizer()</pre></div></div></div></div></div></div></div></div><div class=\"sk-parallel-item\"><div class=\"sk-item\"><div class=\"sk-label-container\"><div class=\"sk-label sk-toggleable\"><input class=\"sk-toggleable__control sk-hidden--visually\" id=\"sk-estimator-id-28\" type=\"checkbox\" ><label for=\"sk-estimator-id-28\" class=\"sk-toggleable__label sk-toggleable__label-arrow\">cat_transformer</label><div class=\"sk-toggleable__content\"><pre>[&#x27;C1&#x27;, &#x27;C9&#x27;, &#x27;C11&#x27;]</pre></div></div></div><div class=\"sk-serial\"><div class=\"sk-item\"><div class=\"sk-serial\"><div class=\"sk-item\"><div class=\"sk-estimator sk-toggleable\"><input class=\"sk-toggleable__control sk-hidden--visually\" id=\"sk-estimator-id-29\" type=\"checkbox\" ><label for=\"sk-estimator-id-29\" class=\"sk-toggleable__label sk-toggleable__label-arrow\">Normalizer</label><div class=\"sk-toggleable__content\"><pre>Normalizer()</pre></div></div></div></div></div></div></div></div><div class=\"sk-parallel-item\"><div class=\"sk-item\"><div class=\"sk-label-container\"><div class=\"sk-label sk-toggleable\"><input class=\"sk-toggleable__control sk-hidden--visually\" id=\"sk-estimator-id-30\" type=\"checkbox\" ><label for=\"sk-estimator-id-30\" class=\"sk-toggleable__label sk-toggleable__label-arrow\">cat_enc_1</label><div class=\"sk-toggleable__content\"><pre>[&#x27;C6_enc&#x27;, &#x27;C5_enc&#x27;, &#x27;C4_enc&#x27;, &#x27;C12_enc&#x27;]</pre></div></div></div><div class=\"sk-serial\"><div class=\"sk-item\"><div class=\"sk-serial\"><div class=\"sk-item\"><div class=\"sk-estimator sk-toggleable\"><input class=\"sk-toggleable__control sk-hidden--visually\" id=\"sk-estimator-id-31\" type=\"checkbox\" ><label for=\"sk-estimator-id-31\" class=\"sk-toggleable__label sk-toggleable__label-arrow\">Normalizer</label><div class=\"sk-toggleable__content\"><pre>Normalizer()</pre></div></div></div></div></div></div></div></div><div class=\"sk-parallel-item\"><div class=\"sk-item\"><div class=\"sk-label-container\"><div class=\"sk-label sk-toggleable\"><input class=\"sk-toggleable__control sk-hidden--visually\" id=\"sk-estimator-id-32\" type=\"checkbox\" ><label for=\"sk-estimator-id-32\" class=\"sk-toggleable__label sk-toggleable__label-arrow\">remainder</label><div class=\"sk-toggleable__content\"><pre>[&#x27;C8&#x27;]</pre></div></div></div><div class=\"sk-serial\"><div class=\"sk-item\"><div class=\"sk-estimator sk-toggleable\"><input class=\"sk-toggleable__control sk-hidden--visually\" id=\"sk-estimator-id-33\" type=\"checkbox\" ><label for=\"sk-estimator-id-33\" class=\"sk-toggleable__label sk-toggleable__label-arrow\">passthrough</label><div class=\"sk-toggleable__content\"><pre>passthrough</pre></div></div></div></div></div></div></div></div><div class=\"sk-item\"><div class=\"sk-estimator sk-toggleable\"><input class=\"sk-toggleable__control sk-hidden--visually\" id=\"sk-estimator-id-34\" type=\"checkbox\" ><label for=\"sk-estimator-id-34\" class=\"sk-toggleable__label sk-toggleable__label-arrow\">GradientBoostingClassifier</label><div class=\"sk-toggleable__content\"><pre>GradientBoostingClassifier()</pre></div></div></div></div></div></div></div>"
      ],
      "text/plain": [
       "Pipeline(steps=[('preproc',\n",
       "                 ColumnTransformer(remainder='passthrough',\n",
       "                                   transformers=[('num_transformer',\n",
       "                                                  Pipeline(steps=[('scaler',\n",
       "                                                                   Normalizer())]),\n",
       "                                                  ['N2', 'N3', 'N7', 'N10',\n",
       "                                                   'N13', 'N14']),\n",
       "                                                 ('cat_transformer',\n",
       "                                                  Pipeline(steps=[('scaler',\n",
       "                                                                   Normalizer())]),\n",
       "                                                  ['C1', 'C9', 'C11']),\n",
       "                                                 ('cat_enc_1',\n",
       "                                                  Pipeline(steps=[('scaler',\n",
       "                                                                   Normalizer())]),\n",
       "                                                  ['C6_enc', 'C5_enc', 'C4_enc',\n",
       "                                                   'C12_enc'])])),\n",
       "                ('estimator', GradientBoostingClassifier())])"
      ]
     },
     "execution_count": 23,
     "metadata": {},
     "output_type": "execute_result"
    }
   ],
   "source": [
    "model_baseline_1 = Pipeline(steps=[\n",
    "        ('preproc', ct),\n",
    "        ('estimator', GradientBoostingClassifier())\n",
    "    ],\n",
    ")\n",
    "model_baseline_1.fit(X_train, y_train)"
   ]
  },
  {
   "cell_type": "code",
   "execution_count": 24,
   "metadata": {},
   "outputs": [],
   "source": [
    "param_grid_base = {\n",
    "    'preproc__num_transformer__scaler' :[StandardScaler(), RobustScaler(), MinMaxScaler(), Normalizer()],\n",
    "     'preproc__cat_transformer__scaler' :[StandardScaler(), RobustScaler(),MinMaxScaler()],\n",
    "     'preproc__cat_enc_1__scaler' :[StandardScaler(), RobustScaler(),MinMaxScaler()],\n",
    "  # 'estimator__learning_rate': [0.1,0.2,0.3,0.4,0.5,0.6,0.7],\n",
    "  #  'estimator__subsample': [0.3,0.4,0.5,0.6],\n",
    "  #  'estimator__n_estimators': [300,400,500],\n",
    "    'estimator__criterion':['friedman_mse','squared_error'],\n",
    "    'estimator__max_depth': [2,3,4,5]\n",
    "}"
   ]
  },
  {
   "cell_type": "code",
   "execution_count": 25,
   "metadata": {},
   "outputs": [
    {
     "data": {
      "text/html": [
       "<style>#sk-container-id-4 {color: black;background-color: white;}#sk-container-id-4 pre{padding: 0;}#sk-container-id-4 div.sk-toggleable {background-color: white;}#sk-container-id-4 label.sk-toggleable__label {cursor: pointer;display: block;width: 100%;margin-bottom: 0;padding: 0.3em;box-sizing: border-box;text-align: center;}#sk-container-id-4 label.sk-toggleable__label-arrow:before {content: \"▸\";float: left;margin-right: 0.25em;color: #696969;}#sk-container-id-4 label.sk-toggleable__label-arrow:hover:before {color: black;}#sk-container-id-4 div.sk-estimator:hover label.sk-toggleable__label-arrow:before {color: black;}#sk-container-id-4 div.sk-toggleable__content {max-height: 0;max-width: 0;overflow: hidden;text-align: left;background-color: #f0f8ff;}#sk-container-id-4 div.sk-toggleable__content pre {margin: 0.2em;color: black;border-radius: 0.25em;background-color: #f0f8ff;}#sk-container-id-4 input.sk-toggleable__control:checked~div.sk-toggleable__content {max-height: 200px;max-width: 100%;overflow: auto;}#sk-container-id-4 input.sk-toggleable__control:checked~label.sk-toggleable__label-arrow:before {content: \"▾\";}#sk-container-id-4 div.sk-estimator input.sk-toggleable__control:checked~label.sk-toggleable__label {background-color: #d4ebff;}#sk-container-id-4 div.sk-label input.sk-toggleable__control:checked~label.sk-toggleable__label {background-color: #d4ebff;}#sk-container-id-4 input.sk-hidden--visually {border: 0;clip: rect(1px 1px 1px 1px);clip: rect(1px, 1px, 1px, 1px);height: 1px;margin: -1px;overflow: hidden;padding: 0;position: absolute;width: 1px;}#sk-container-id-4 div.sk-estimator {font-family: monospace;background-color: #f0f8ff;border: 1px dotted black;border-radius: 0.25em;box-sizing: border-box;margin-bottom: 0.5em;}#sk-container-id-4 div.sk-estimator:hover {background-color: #d4ebff;}#sk-container-id-4 div.sk-parallel-item::after {content: \"\";width: 100%;border-bottom: 1px solid gray;flex-grow: 1;}#sk-container-id-4 div.sk-label:hover label.sk-toggleable__label {background-color: #d4ebff;}#sk-container-id-4 div.sk-serial::before {content: \"\";position: absolute;border-left: 1px solid gray;box-sizing: border-box;top: 0;bottom: 0;left: 50%;z-index: 0;}#sk-container-id-4 div.sk-serial {display: flex;flex-direction: column;align-items: center;background-color: white;padding-right: 0.2em;padding-left: 0.2em;position: relative;}#sk-container-id-4 div.sk-item {position: relative;z-index: 1;}#sk-container-id-4 div.sk-parallel {display: flex;align-items: stretch;justify-content: center;background-color: white;position: relative;}#sk-container-id-4 div.sk-item::before, #sk-container-id-4 div.sk-parallel-item::before {content: \"\";position: absolute;border-left: 1px solid gray;box-sizing: border-box;top: 0;bottom: 0;left: 50%;z-index: -1;}#sk-container-id-4 div.sk-parallel-item {display: flex;flex-direction: column;z-index: 1;position: relative;background-color: white;}#sk-container-id-4 div.sk-parallel-item:first-child::after {align-self: flex-end;width: 50%;}#sk-container-id-4 div.sk-parallel-item:last-child::after {align-self: flex-start;width: 50%;}#sk-container-id-4 div.sk-parallel-item:only-child::after {width: 0;}#sk-container-id-4 div.sk-dashed-wrapped {border: 1px dashed gray;margin: 0 0.4em 0.5em 0.4em;box-sizing: border-box;padding-bottom: 0.4em;background-color: white;}#sk-container-id-4 div.sk-label label {font-family: monospace;font-weight: bold;display: inline-block;line-height: 1.2em;}#sk-container-id-4 div.sk-label-container {text-align: center;}#sk-container-id-4 div.sk-container {/* jupyter's `normalize.less` sets `[hidden] { display: none; }` but bootstrap.min.css set `[hidden] { display: none !important; }` so we also need the `!important` here to be able to override the default hidden behavior on the sphinx rendered scikit-learn.org. See: https://github.com/scikit-learn/scikit-learn/issues/21755 */display: inline-block !important;position: relative;}#sk-container-id-4 div.sk-text-repr-fallback {display: none;}</style><div id=\"sk-container-id-4\" class=\"sk-top-container\"><div class=\"sk-text-repr-fallback\"><pre>GridSearchCV(estimator=Pipeline(steps=[(&#x27;preproc&#x27;,\n",
       "                                        ColumnTransformer(remainder=&#x27;passthrough&#x27;,\n",
       "                                                          transformers=[(&#x27;num_transformer&#x27;,\n",
       "                                                                         Pipeline(steps=[(&#x27;scaler&#x27;,\n",
       "                                                                                          Normalizer())]),\n",
       "                                                                         [&#x27;N2&#x27;,\n",
       "                                                                          &#x27;N3&#x27;,\n",
       "                                                                          &#x27;N7&#x27;,\n",
       "                                                                          &#x27;N10&#x27;,\n",
       "                                                                          &#x27;N13&#x27;,\n",
       "                                                                          &#x27;N14&#x27;]),\n",
       "                                                                        (&#x27;cat_transformer&#x27;,\n",
       "                                                                         Pipeline(steps=[(&#x27;scaler&#x27;,\n",
       "                                                                                          Normalizer())]),\n",
       "                                                                         [&#x27;C1&#x27;,\n",
       "                                                                          &#x27;C9&#x27;,\n",
       "                                                                          &#x27;C11&#x27;]),\n",
       "                                                                        (&#x27;cat_enc_1&#x27;,\n",
       "                                                                         Pipeline(steps=[(&#x27;scaler&#x27;,\n",
       "                                                                                          Normalizer())]),\n",
       "                                                                         [&#x27;C6_enc&#x27;,\n",
       "                                                                          &#x27;C...\n",
       "             param_grid={&#x27;estimator__criterion&#x27;: [&#x27;friedman_mse&#x27;,\n",
       "                                                  &#x27;squared_error&#x27;],\n",
       "                         &#x27;estimator__max_depth&#x27;: [2, 3, 4, 5],\n",
       "                         &#x27;preproc__cat_enc_1__scaler&#x27;: [StandardScaler(),\n",
       "                                                        RobustScaler(),\n",
       "                                                        MinMaxScaler()],\n",
       "                         &#x27;preproc__cat_transformer__scaler&#x27;: [StandardScaler(),\n",
       "                                                              RobustScaler(),\n",
       "                                                              MinMaxScaler()],\n",
       "                         &#x27;preproc__num_transformer__scaler&#x27;: [StandardScaler(),\n",
       "                                                              RobustScaler(),\n",
       "                                                              MinMaxScaler(),\n",
       "                                                              Normalizer()]},\n",
       "             scoring=&#x27;f1&#x27;)</pre><b>In a Jupyter environment, please rerun this cell to show the HTML representation or trust the notebook. <br />On GitHub, the HTML representation is unable to render, please try loading this page with nbviewer.org.</b></div><div class=\"sk-container\" hidden><div class=\"sk-item sk-dashed-wrapped\"><div class=\"sk-label-container\"><div class=\"sk-label sk-toggleable\"><input class=\"sk-toggleable__control sk-hidden--visually\" id=\"sk-estimator-id-35\" type=\"checkbox\" ><label for=\"sk-estimator-id-35\" class=\"sk-toggleable__label sk-toggleable__label-arrow\">GridSearchCV</label><div class=\"sk-toggleable__content\"><pre>GridSearchCV(estimator=Pipeline(steps=[(&#x27;preproc&#x27;,\n",
       "                                        ColumnTransformer(remainder=&#x27;passthrough&#x27;,\n",
       "                                                          transformers=[(&#x27;num_transformer&#x27;,\n",
       "                                                                         Pipeline(steps=[(&#x27;scaler&#x27;,\n",
       "                                                                                          Normalizer())]),\n",
       "                                                                         [&#x27;N2&#x27;,\n",
       "                                                                          &#x27;N3&#x27;,\n",
       "                                                                          &#x27;N7&#x27;,\n",
       "                                                                          &#x27;N10&#x27;,\n",
       "                                                                          &#x27;N13&#x27;,\n",
       "                                                                          &#x27;N14&#x27;]),\n",
       "                                                                        (&#x27;cat_transformer&#x27;,\n",
       "                                                                         Pipeline(steps=[(&#x27;scaler&#x27;,\n",
       "                                                                                          Normalizer())]),\n",
       "                                                                         [&#x27;C1&#x27;,\n",
       "                                                                          &#x27;C9&#x27;,\n",
       "                                                                          &#x27;C11&#x27;]),\n",
       "                                                                        (&#x27;cat_enc_1&#x27;,\n",
       "                                                                         Pipeline(steps=[(&#x27;scaler&#x27;,\n",
       "                                                                                          Normalizer())]),\n",
       "                                                                         [&#x27;C6_enc&#x27;,\n",
       "                                                                          &#x27;C...\n",
       "             param_grid={&#x27;estimator__criterion&#x27;: [&#x27;friedman_mse&#x27;,\n",
       "                                                  &#x27;squared_error&#x27;],\n",
       "                         &#x27;estimator__max_depth&#x27;: [2, 3, 4, 5],\n",
       "                         &#x27;preproc__cat_enc_1__scaler&#x27;: [StandardScaler(),\n",
       "                                                        RobustScaler(),\n",
       "                                                        MinMaxScaler()],\n",
       "                         &#x27;preproc__cat_transformer__scaler&#x27;: [StandardScaler(),\n",
       "                                                              RobustScaler(),\n",
       "                                                              MinMaxScaler()],\n",
       "                         &#x27;preproc__num_transformer__scaler&#x27;: [StandardScaler(),\n",
       "                                                              RobustScaler(),\n",
       "                                                              MinMaxScaler(),\n",
       "                                                              Normalizer()]},\n",
       "             scoring=&#x27;f1&#x27;)</pre></div></div></div><div class=\"sk-parallel\"><div class=\"sk-parallel-item\"><div class=\"sk-item\"><div class=\"sk-label-container\"><div class=\"sk-label sk-toggleable\"><input class=\"sk-toggleable__control sk-hidden--visually\" id=\"sk-estimator-id-36\" type=\"checkbox\" ><label for=\"sk-estimator-id-36\" class=\"sk-toggleable__label sk-toggleable__label-arrow\">estimator: Pipeline</label><div class=\"sk-toggleable__content\"><pre>Pipeline(steps=[(&#x27;preproc&#x27;,\n",
       "                 ColumnTransformer(remainder=&#x27;passthrough&#x27;,\n",
       "                                   transformers=[(&#x27;num_transformer&#x27;,\n",
       "                                                  Pipeline(steps=[(&#x27;scaler&#x27;,\n",
       "                                                                   Normalizer())]),\n",
       "                                                  [&#x27;N2&#x27;, &#x27;N3&#x27;, &#x27;N7&#x27;, &#x27;N10&#x27;,\n",
       "                                                   &#x27;N13&#x27;, &#x27;N14&#x27;]),\n",
       "                                                 (&#x27;cat_transformer&#x27;,\n",
       "                                                  Pipeline(steps=[(&#x27;scaler&#x27;,\n",
       "                                                                   Normalizer())]),\n",
       "                                                  [&#x27;C1&#x27;, &#x27;C9&#x27;, &#x27;C11&#x27;]),\n",
       "                                                 (&#x27;cat_enc_1&#x27;,\n",
       "                                                  Pipeline(steps=[(&#x27;scaler&#x27;,\n",
       "                                                                   Normalizer())]),\n",
       "                                                  [&#x27;C6_enc&#x27;, &#x27;C5_enc&#x27;, &#x27;C4_enc&#x27;,\n",
       "                                                   &#x27;C12_enc&#x27;])])),\n",
       "                (&#x27;estimator&#x27;, GradientBoostingClassifier())])</pre></div></div></div><div class=\"sk-serial\"><div class=\"sk-item\"><div class=\"sk-serial\"><div class=\"sk-item sk-dashed-wrapped\"><div class=\"sk-label-container\"><div class=\"sk-label sk-toggleable\"><input class=\"sk-toggleable__control sk-hidden--visually\" id=\"sk-estimator-id-37\" type=\"checkbox\" ><label for=\"sk-estimator-id-37\" class=\"sk-toggleable__label sk-toggleable__label-arrow\">preproc: ColumnTransformer</label><div class=\"sk-toggleable__content\"><pre>ColumnTransformer(remainder=&#x27;passthrough&#x27;,\n",
       "                  transformers=[(&#x27;num_transformer&#x27;,\n",
       "                                 Pipeline(steps=[(&#x27;scaler&#x27;, Normalizer())]),\n",
       "                                 [&#x27;N2&#x27;, &#x27;N3&#x27;, &#x27;N7&#x27;, &#x27;N10&#x27;, &#x27;N13&#x27;, &#x27;N14&#x27;]),\n",
       "                                (&#x27;cat_transformer&#x27;,\n",
       "                                 Pipeline(steps=[(&#x27;scaler&#x27;, Normalizer())]),\n",
       "                                 [&#x27;C1&#x27;, &#x27;C9&#x27;, &#x27;C11&#x27;]),\n",
       "                                (&#x27;cat_enc_1&#x27;,\n",
       "                                 Pipeline(steps=[(&#x27;scaler&#x27;, Normalizer())]),\n",
       "                                 [&#x27;C6_enc&#x27;, &#x27;C5_enc&#x27;, &#x27;C4_enc&#x27;, &#x27;C12_enc&#x27;])])</pre></div></div></div><div class=\"sk-parallel\"><div class=\"sk-parallel-item\"><div class=\"sk-item\"><div class=\"sk-label-container\"><div class=\"sk-label sk-toggleable\"><input class=\"sk-toggleable__control sk-hidden--visually\" id=\"sk-estimator-id-38\" type=\"checkbox\" ><label for=\"sk-estimator-id-38\" class=\"sk-toggleable__label sk-toggleable__label-arrow\">num_transformer</label><div class=\"sk-toggleable__content\"><pre>[&#x27;N2&#x27;, &#x27;N3&#x27;, &#x27;N7&#x27;, &#x27;N10&#x27;, &#x27;N13&#x27;, &#x27;N14&#x27;]</pre></div></div></div><div class=\"sk-serial\"><div class=\"sk-item\"><div class=\"sk-serial\"><div class=\"sk-item\"><div class=\"sk-estimator sk-toggleable\"><input class=\"sk-toggleable__control sk-hidden--visually\" id=\"sk-estimator-id-39\" type=\"checkbox\" ><label for=\"sk-estimator-id-39\" class=\"sk-toggleable__label sk-toggleable__label-arrow\">Normalizer</label><div class=\"sk-toggleable__content\"><pre>Normalizer()</pre></div></div></div></div></div></div></div></div><div class=\"sk-parallel-item\"><div class=\"sk-item\"><div class=\"sk-label-container\"><div class=\"sk-label sk-toggleable\"><input class=\"sk-toggleable__control sk-hidden--visually\" id=\"sk-estimator-id-40\" type=\"checkbox\" ><label for=\"sk-estimator-id-40\" class=\"sk-toggleable__label sk-toggleable__label-arrow\">cat_transformer</label><div class=\"sk-toggleable__content\"><pre>[&#x27;C1&#x27;, &#x27;C9&#x27;, &#x27;C11&#x27;]</pre></div></div></div><div class=\"sk-serial\"><div class=\"sk-item\"><div class=\"sk-serial\"><div class=\"sk-item\"><div class=\"sk-estimator sk-toggleable\"><input class=\"sk-toggleable__control sk-hidden--visually\" id=\"sk-estimator-id-41\" type=\"checkbox\" ><label for=\"sk-estimator-id-41\" class=\"sk-toggleable__label sk-toggleable__label-arrow\">Normalizer</label><div class=\"sk-toggleable__content\"><pre>Normalizer()</pre></div></div></div></div></div></div></div></div><div class=\"sk-parallel-item\"><div class=\"sk-item\"><div class=\"sk-label-container\"><div class=\"sk-label sk-toggleable\"><input class=\"sk-toggleable__control sk-hidden--visually\" id=\"sk-estimator-id-42\" type=\"checkbox\" ><label for=\"sk-estimator-id-42\" class=\"sk-toggleable__label sk-toggleable__label-arrow\">cat_enc_1</label><div class=\"sk-toggleable__content\"><pre>[&#x27;C6_enc&#x27;, &#x27;C5_enc&#x27;, &#x27;C4_enc&#x27;, &#x27;C12_enc&#x27;]</pre></div></div></div><div class=\"sk-serial\"><div class=\"sk-item\"><div class=\"sk-serial\"><div class=\"sk-item\"><div class=\"sk-estimator sk-toggleable\"><input class=\"sk-toggleable__control sk-hidden--visually\" id=\"sk-estimator-id-43\" type=\"checkbox\" ><label for=\"sk-estimator-id-43\" class=\"sk-toggleable__label sk-toggleable__label-arrow\">Normalizer</label><div class=\"sk-toggleable__content\"><pre>Normalizer()</pre></div></div></div></div></div></div></div></div><div class=\"sk-parallel-item\"><div class=\"sk-item\"><div class=\"sk-label-container\"><div class=\"sk-label sk-toggleable\"><input class=\"sk-toggleable__control sk-hidden--visually\" id=\"sk-estimator-id-44\" type=\"checkbox\" ><label for=\"sk-estimator-id-44\" class=\"sk-toggleable__label sk-toggleable__label-arrow\">remainder</label><div class=\"sk-toggleable__content\"><pre>[&#x27;C8&#x27;]</pre></div></div></div><div class=\"sk-serial\"><div class=\"sk-item\"><div class=\"sk-estimator sk-toggleable\"><input class=\"sk-toggleable__control sk-hidden--visually\" id=\"sk-estimator-id-45\" type=\"checkbox\" ><label for=\"sk-estimator-id-45\" class=\"sk-toggleable__label sk-toggleable__label-arrow\">passthrough</label><div class=\"sk-toggleable__content\"><pre>passthrough</pre></div></div></div></div></div></div></div></div><div class=\"sk-item\"><div class=\"sk-estimator sk-toggleable\"><input class=\"sk-toggleable__control sk-hidden--visually\" id=\"sk-estimator-id-46\" type=\"checkbox\" ><label for=\"sk-estimator-id-46\" class=\"sk-toggleable__label sk-toggleable__label-arrow\">GradientBoostingClassifier</label><div class=\"sk-toggleable__content\"><pre>GradientBoostingClassifier()</pre></div></div></div></div></div></div></div></div></div></div></div></div>"
      ],
      "text/plain": [
       "GridSearchCV(estimator=Pipeline(steps=[('preproc',\n",
       "                                        ColumnTransformer(remainder='passthrough',\n",
       "                                                          transformers=[('num_transformer',\n",
       "                                                                         Pipeline(steps=[('scaler',\n",
       "                                                                                          Normalizer())]),\n",
       "                                                                         ['N2',\n",
       "                                                                          'N3',\n",
       "                                                                          'N7',\n",
       "                                                                          'N10',\n",
       "                                                                          'N13',\n",
       "                                                                          'N14']),\n",
       "                                                                        ('cat_transformer',\n",
       "                                                                         Pipeline(steps=[('scaler',\n",
       "                                                                                          Normalizer())]),\n",
       "                                                                         ['C1',\n",
       "                                                                          'C9',\n",
       "                                                                          'C11']),\n",
       "                                                                        ('cat_enc_1',\n",
       "                                                                         Pipeline(steps=[('scaler',\n",
       "                                                                                          Normalizer())]),\n",
       "                                                                         ['C6_enc',\n",
       "                                                                          'C...\n",
       "             param_grid={'estimator__criterion': ['friedman_mse',\n",
       "                                                  'squared_error'],\n",
       "                         'estimator__max_depth': [2, 3, 4, 5],\n",
       "                         'preproc__cat_enc_1__scaler': [StandardScaler(),\n",
       "                                                        RobustScaler(),\n",
       "                                                        MinMaxScaler()],\n",
       "                         'preproc__cat_transformer__scaler': [StandardScaler(),\n",
       "                                                              RobustScaler(),\n",
       "                                                              MinMaxScaler()],\n",
       "                         'preproc__num_transformer__scaler': [StandardScaler(),\n",
       "                                                              RobustScaler(),\n",
       "                                                              MinMaxScaler(),\n",
       "                                                              Normalizer()]},\n",
       "             scoring='f1')"
      ]
     },
     "execution_count": 25,
     "metadata": {},
     "output_type": "execute_result"
    }
   ],
   "source": [
    "baseline_grid = GridSearchCV(model_baseline_1, n_jobs=-1, param_grid = param_grid_base, scoring='f1')\n",
    "baseline_grid.fit(X_train, y_train)"
   ]
  },
  {
   "cell_type": "markdown",
   "metadata": {},
   "source": [
    "### найдем лучшие параметры, а в дальнейшем некоторые подберем вручную"
   ]
  },
  {
   "cell_type": "code",
   "execution_count": 26,
   "metadata": {},
   "outputs": [
    {
     "name": "stdout",
     "output_type": "stream",
     "text": [
      "Лучшие параметры: {'estimator__criterion': 'squared_error', 'estimator__max_depth': 3, 'preproc__cat_enc_1__scaler': StandardScaler(), 'preproc__cat_transformer__scaler': MinMaxScaler(), 'preproc__num_transformer__scaler': StandardScaler()}\n"
     ]
    }
   ],
   "source": [
    "print(\"Лучшие параметры:\", baseline_grid.best_params_)"
   ]
  },
  {
   "cell_type": "code",
   "execution_count": 27,
   "metadata": {},
   "outputs": [
    {
     "name": "stdout",
     "output_type": "stream",
     "text": [
      "Метрика F1 модели :  0.8363636363636363\n"
     ]
    }
   ],
   "source": [
    "y_pred = baseline_grid.predict(X_test)\n",
    "f1 = f1_score(y_test, y_pred)\n",
    "print(\"Метрика F1 модели : \", f1)"
   ]
  },
  {
   "cell_type": "code",
   "execution_count": 28,
   "metadata": {},
   "outputs": [
    {
     "data": {
      "text/html": [
       "<style>#sk-container-id-5 {color: black;background-color: white;}#sk-container-id-5 pre{padding: 0;}#sk-container-id-5 div.sk-toggleable {background-color: white;}#sk-container-id-5 label.sk-toggleable__label {cursor: pointer;display: block;width: 100%;margin-bottom: 0;padding: 0.3em;box-sizing: border-box;text-align: center;}#sk-container-id-5 label.sk-toggleable__label-arrow:before {content: \"▸\";float: left;margin-right: 0.25em;color: #696969;}#sk-container-id-5 label.sk-toggleable__label-arrow:hover:before {color: black;}#sk-container-id-5 div.sk-estimator:hover label.sk-toggleable__label-arrow:before {color: black;}#sk-container-id-5 div.sk-toggleable__content {max-height: 0;max-width: 0;overflow: hidden;text-align: left;background-color: #f0f8ff;}#sk-container-id-5 div.sk-toggleable__content pre {margin: 0.2em;color: black;border-radius: 0.25em;background-color: #f0f8ff;}#sk-container-id-5 input.sk-toggleable__control:checked~div.sk-toggleable__content {max-height: 200px;max-width: 100%;overflow: auto;}#sk-container-id-5 input.sk-toggleable__control:checked~label.sk-toggleable__label-arrow:before {content: \"▾\";}#sk-container-id-5 div.sk-estimator input.sk-toggleable__control:checked~label.sk-toggleable__label {background-color: #d4ebff;}#sk-container-id-5 div.sk-label input.sk-toggleable__control:checked~label.sk-toggleable__label {background-color: #d4ebff;}#sk-container-id-5 input.sk-hidden--visually {border: 0;clip: rect(1px 1px 1px 1px);clip: rect(1px, 1px, 1px, 1px);height: 1px;margin: -1px;overflow: hidden;padding: 0;position: absolute;width: 1px;}#sk-container-id-5 div.sk-estimator {font-family: monospace;background-color: #f0f8ff;border: 1px dotted black;border-radius: 0.25em;box-sizing: border-box;margin-bottom: 0.5em;}#sk-container-id-5 div.sk-estimator:hover {background-color: #d4ebff;}#sk-container-id-5 div.sk-parallel-item::after {content: \"\";width: 100%;border-bottom: 1px solid gray;flex-grow: 1;}#sk-container-id-5 div.sk-label:hover label.sk-toggleable__label {background-color: #d4ebff;}#sk-container-id-5 div.sk-serial::before {content: \"\";position: absolute;border-left: 1px solid gray;box-sizing: border-box;top: 0;bottom: 0;left: 50%;z-index: 0;}#sk-container-id-5 div.sk-serial {display: flex;flex-direction: column;align-items: center;background-color: white;padding-right: 0.2em;padding-left: 0.2em;position: relative;}#sk-container-id-5 div.sk-item {position: relative;z-index: 1;}#sk-container-id-5 div.sk-parallel {display: flex;align-items: stretch;justify-content: center;background-color: white;position: relative;}#sk-container-id-5 div.sk-item::before, #sk-container-id-5 div.sk-parallel-item::before {content: \"\";position: absolute;border-left: 1px solid gray;box-sizing: border-box;top: 0;bottom: 0;left: 50%;z-index: -1;}#sk-container-id-5 div.sk-parallel-item {display: flex;flex-direction: column;z-index: 1;position: relative;background-color: white;}#sk-container-id-5 div.sk-parallel-item:first-child::after {align-self: flex-end;width: 50%;}#sk-container-id-5 div.sk-parallel-item:last-child::after {align-self: flex-start;width: 50%;}#sk-container-id-5 div.sk-parallel-item:only-child::after {width: 0;}#sk-container-id-5 div.sk-dashed-wrapped {border: 1px dashed gray;margin: 0 0.4em 0.5em 0.4em;box-sizing: border-box;padding-bottom: 0.4em;background-color: white;}#sk-container-id-5 div.sk-label label {font-family: monospace;font-weight: bold;display: inline-block;line-height: 1.2em;}#sk-container-id-5 div.sk-label-container {text-align: center;}#sk-container-id-5 div.sk-container {/* jupyter's `normalize.less` sets `[hidden] { display: none; }` but bootstrap.min.css set `[hidden] { display: none !important; }` so we also need the `!important` here to be able to override the default hidden behavior on the sphinx rendered scikit-learn.org. See: https://github.com/scikit-learn/scikit-learn/issues/21755 */display: inline-block !important;position: relative;}#sk-container-id-5 div.sk-text-repr-fallback {display: none;}</style><div id=\"sk-container-id-5\" class=\"sk-top-container\"><div class=\"sk-text-repr-fallback\"><pre>Pipeline(steps=[(&#x27;preproc&#x27;,\n",
       "                 ColumnTransformer(remainder=&#x27;passthrough&#x27;,\n",
       "                                   transformers=[(&#x27;num_transformer&#x27;,\n",
       "                                                  Pipeline(steps=[(&#x27;scaler&#x27;,\n",
       "                                                                   Normalizer())]),\n",
       "                                                  [&#x27;N2&#x27;, &#x27;N3&#x27;, &#x27;N7&#x27;, &#x27;N10&#x27;,\n",
       "                                                   &#x27;N13&#x27;, &#x27;N14&#x27;]),\n",
       "                                                 (&#x27;cat_transformer&#x27;,\n",
       "                                                  Pipeline(steps=[(&#x27;scaler&#x27;,\n",
       "                                                                   Normalizer())]),\n",
       "                                                  [&#x27;C1&#x27;, &#x27;C9&#x27;, &#x27;C11&#x27;]),\n",
       "                                                 (&#x27;cat_enc_1&#x27;,\n",
       "                                                  Pipeline(steps=[(&#x27;scaler&#x27;,\n",
       "                                                                   Normalizer())]),\n",
       "                                                  [&#x27;C6_enc&#x27;, &#x27;C5_enc&#x27;, &#x27;C4_enc&#x27;,\n",
       "                                                   &#x27;C12_enc&#x27;])])),\n",
       "                (&#x27;estimator&#x27;,\n",
       "                 GradientBoostingClassifier(learning_rate=0.01,\n",
       "                                            n_estimators=400, random_state=42,\n",
       "                                            subsample=0.1))])</pre><b>In a Jupyter environment, please rerun this cell to show the HTML representation or trust the notebook. <br />On GitHub, the HTML representation is unable to render, please try loading this page with nbviewer.org.</b></div><div class=\"sk-container\" hidden><div class=\"sk-item sk-dashed-wrapped\"><div class=\"sk-label-container\"><div class=\"sk-label sk-toggleable\"><input class=\"sk-toggleable__control sk-hidden--visually\" id=\"sk-estimator-id-47\" type=\"checkbox\" ><label for=\"sk-estimator-id-47\" class=\"sk-toggleable__label sk-toggleable__label-arrow\">Pipeline</label><div class=\"sk-toggleable__content\"><pre>Pipeline(steps=[(&#x27;preproc&#x27;,\n",
       "                 ColumnTransformer(remainder=&#x27;passthrough&#x27;,\n",
       "                                   transformers=[(&#x27;num_transformer&#x27;,\n",
       "                                                  Pipeline(steps=[(&#x27;scaler&#x27;,\n",
       "                                                                   Normalizer())]),\n",
       "                                                  [&#x27;N2&#x27;, &#x27;N3&#x27;, &#x27;N7&#x27;, &#x27;N10&#x27;,\n",
       "                                                   &#x27;N13&#x27;, &#x27;N14&#x27;]),\n",
       "                                                 (&#x27;cat_transformer&#x27;,\n",
       "                                                  Pipeline(steps=[(&#x27;scaler&#x27;,\n",
       "                                                                   Normalizer())]),\n",
       "                                                  [&#x27;C1&#x27;, &#x27;C9&#x27;, &#x27;C11&#x27;]),\n",
       "                                                 (&#x27;cat_enc_1&#x27;,\n",
       "                                                  Pipeline(steps=[(&#x27;scaler&#x27;,\n",
       "                                                                   Normalizer())]),\n",
       "                                                  [&#x27;C6_enc&#x27;, &#x27;C5_enc&#x27;, &#x27;C4_enc&#x27;,\n",
       "                                                   &#x27;C12_enc&#x27;])])),\n",
       "                (&#x27;estimator&#x27;,\n",
       "                 GradientBoostingClassifier(learning_rate=0.01,\n",
       "                                            n_estimators=400, random_state=42,\n",
       "                                            subsample=0.1))])</pre></div></div></div><div class=\"sk-serial\"><div class=\"sk-item sk-dashed-wrapped\"><div class=\"sk-label-container\"><div class=\"sk-label sk-toggleable\"><input class=\"sk-toggleable__control sk-hidden--visually\" id=\"sk-estimator-id-48\" type=\"checkbox\" ><label for=\"sk-estimator-id-48\" class=\"sk-toggleable__label sk-toggleable__label-arrow\">preproc: ColumnTransformer</label><div class=\"sk-toggleable__content\"><pre>ColumnTransformer(remainder=&#x27;passthrough&#x27;,\n",
       "                  transformers=[(&#x27;num_transformer&#x27;,\n",
       "                                 Pipeline(steps=[(&#x27;scaler&#x27;, Normalizer())]),\n",
       "                                 [&#x27;N2&#x27;, &#x27;N3&#x27;, &#x27;N7&#x27;, &#x27;N10&#x27;, &#x27;N13&#x27;, &#x27;N14&#x27;]),\n",
       "                                (&#x27;cat_transformer&#x27;,\n",
       "                                 Pipeline(steps=[(&#x27;scaler&#x27;, Normalizer())]),\n",
       "                                 [&#x27;C1&#x27;, &#x27;C9&#x27;, &#x27;C11&#x27;]),\n",
       "                                (&#x27;cat_enc_1&#x27;,\n",
       "                                 Pipeline(steps=[(&#x27;scaler&#x27;, Normalizer())]),\n",
       "                                 [&#x27;C6_enc&#x27;, &#x27;C5_enc&#x27;, &#x27;C4_enc&#x27;, &#x27;C12_enc&#x27;])])</pre></div></div></div><div class=\"sk-parallel\"><div class=\"sk-parallel-item\"><div class=\"sk-item\"><div class=\"sk-label-container\"><div class=\"sk-label sk-toggleable\"><input class=\"sk-toggleable__control sk-hidden--visually\" id=\"sk-estimator-id-49\" type=\"checkbox\" ><label for=\"sk-estimator-id-49\" class=\"sk-toggleable__label sk-toggleable__label-arrow\">num_transformer</label><div class=\"sk-toggleable__content\"><pre>[&#x27;N2&#x27;, &#x27;N3&#x27;, &#x27;N7&#x27;, &#x27;N10&#x27;, &#x27;N13&#x27;, &#x27;N14&#x27;]</pre></div></div></div><div class=\"sk-serial\"><div class=\"sk-item\"><div class=\"sk-serial\"><div class=\"sk-item\"><div class=\"sk-estimator sk-toggleable\"><input class=\"sk-toggleable__control sk-hidden--visually\" id=\"sk-estimator-id-50\" type=\"checkbox\" ><label for=\"sk-estimator-id-50\" class=\"sk-toggleable__label sk-toggleable__label-arrow\">Normalizer</label><div class=\"sk-toggleable__content\"><pre>Normalizer()</pre></div></div></div></div></div></div></div></div><div class=\"sk-parallel-item\"><div class=\"sk-item\"><div class=\"sk-label-container\"><div class=\"sk-label sk-toggleable\"><input class=\"sk-toggleable__control sk-hidden--visually\" id=\"sk-estimator-id-51\" type=\"checkbox\" ><label for=\"sk-estimator-id-51\" class=\"sk-toggleable__label sk-toggleable__label-arrow\">cat_transformer</label><div class=\"sk-toggleable__content\"><pre>[&#x27;C1&#x27;, &#x27;C9&#x27;, &#x27;C11&#x27;]</pre></div></div></div><div class=\"sk-serial\"><div class=\"sk-item\"><div class=\"sk-serial\"><div class=\"sk-item\"><div class=\"sk-estimator sk-toggleable\"><input class=\"sk-toggleable__control sk-hidden--visually\" id=\"sk-estimator-id-52\" type=\"checkbox\" ><label for=\"sk-estimator-id-52\" class=\"sk-toggleable__label sk-toggleable__label-arrow\">Normalizer</label><div class=\"sk-toggleable__content\"><pre>Normalizer()</pre></div></div></div></div></div></div></div></div><div class=\"sk-parallel-item\"><div class=\"sk-item\"><div class=\"sk-label-container\"><div class=\"sk-label sk-toggleable\"><input class=\"sk-toggleable__control sk-hidden--visually\" id=\"sk-estimator-id-53\" type=\"checkbox\" ><label for=\"sk-estimator-id-53\" class=\"sk-toggleable__label sk-toggleable__label-arrow\">cat_enc_1</label><div class=\"sk-toggleable__content\"><pre>[&#x27;C6_enc&#x27;, &#x27;C5_enc&#x27;, &#x27;C4_enc&#x27;, &#x27;C12_enc&#x27;]</pre></div></div></div><div class=\"sk-serial\"><div class=\"sk-item\"><div class=\"sk-serial\"><div class=\"sk-item\"><div class=\"sk-estimator sk-toggleable\"><input class=\"sk-toggleable__control sk-hidden--visually\" id=\"sk-estimator-id-54\" type=\"checkbox\" ><label for=\"sk-estimator-id-54\" class=\"sk-toggleable__label sk-toggleable__label-arrow\">Normalizer</label><div class=\"sk-toggleable__content\"><pre>Normalizer()</pre></div></div></div></div></div></div></div></div><div class=\"sk-parallel-item\"><div class=\"sk-item\"><div class=\"sk-label-container\"><div class=\"sk-label sk-toggleable\"><input class=\"sk-toggleable__control sk-hidden--visually\" id=\"sk-estimator-id-55\" type=\"checkbox\" ><label for=\"sk-estimator-id-55\" class=\"sk-toggleable__label sk-toggleable__label-arrow\">remainder</label><div class=\"sk-toggleable__content\"><pre>[&#x27;C8&#x27;]</pre></div></div></div><div class=\"sk-serial\"><div class=\"sk-item\"><div class=\"sk-estimator sk-toggleable\"><input class=\"sk-toggleable__control sk-hidden--visually\" id=\"sk-estimator-id-56\" type=\"checkbox\" ><label for=\"sk-estimator-id-56\" class=\"sk-toggleable__label sk-toggleable__label-arrow\">passthrough</label><div class=\"sk-toggleable__content\"><pre>passthrough</pre></div></div></div></div></div></div></div></div><div class=\"sk-item\"><div class=\"sk-estimator sk-toggleable\"><input class=\"sk-toggleable__control sk-hidden--visually\" id=\"sk-estimator-id-57\" type=\"checkbox\" ><label for=\"sk-estimator-id-57\" class=\"sk-toggleable__label sk-toggleable__label-arrow\">GradientBoostingClassifier</label><div class=\"sk-toggleable__content\"><pre>GradientBoostingClassifier(learning_rate=0.01, n_estimators=400,\n",
       "                           random_state=42, subsample=0.1)</pre></div></div></div></div></div></div></div>"
      ],
      "text/plain": [
       "Pipeline(steps=[('preproc',\n",
       "                 ColumnTransformer(remainder='passthrough',\n",
       "                                   transformers=[('num_transformer',\n",
       "                                                  Pipeline(steps=[('scaler',\n",
       "                                                                   Normalizer())]),\n",
       "                                                  ['N2', 'N3', 'N7', 'N10',\n",
       "                                                   'N13', 'N14']),\n",
       "                                                 ('cat_transformer',\n",
       "                                                  Pipeline(steps=[('scaler',\n",
       "                                                                   Normalizer())]),\n",
       "                                                  ['C1', 'C9', 'C11']),\n",
       "                                                 ('cat_enc_1',\n",
       "                                                  Pipeline(steps=[('scaler',\n",
       "                                                                   Normalizer())]),\n",
       "                                                  ['C6_enc', 'C5_enc', 'C4_enc',\n",
       "                                                   'C12_enc'])])),\n",
       "                ('estimator',\n",
       "                 GradientBoostingClassifier(learning_rate=0.01,\n",
       "                                            n_estimators=400, random_state=42,\n",
       "                                            subsample=0.1))])"
      ]
     },
     "execution_count": 28,
     "metadata": {},
     "output_type": "execute_result"
    }
   ],
   "source": [
    "num_transformer = Pipeline(steps=[\n",
    "    ('scaler', StandardScaler())\n",
    "])\n",
    "cat_transformer = Pipeline(steps=[\n",
    "    ('scaler', StandardScaler())    \n",
    "])\n",
    "cat_enc_1_transformer = Pipeline(steps=[\n",
    "     ('scaler', StandardScaler())    \n",
    " ])\n",
    "gb = Pipeline( steps = [   \n",
    "('preproc', ct),\n",
    "('estimator', GradientBoostingClassifier(criterion = 'friedman_mse',\n",
    "                                         n_estimators = 400,subsample=0.1,learning_rate=0.01,\n",
    "                                         max_depth =3 ,random_state=42))])\n",
    "gb.fit(X_train, y_train)"
   ]
  },
  {
   "cell_type": "code",
   "execution_count": 29,
   "metadata": {},
   "outputs": [
    {
     "data": {
      "text/plain": [
       "0.8648648648648648"
      ]
     },
     "execution_count": 29,
     "metadata": {},
     "output_type": "execute_result"
    }
   ],
   "source": [
    "y_pred = gb.predict(X_test)\n",
    "f1 = f1_score(y_test, y_pred)\n",
    "f1"
   ]
  },
  {
   "cell_type": "code",
   "execution_count": 30,
   "metadata": {},
   "outputs": [
    {
     "data": {
      "text/plain": [
       "0.8942307692307693"
      ]
     },
     "execution_count": 30,
     "metadata": {},
     "output_type": "execute_result"
    }
   ],
   "source": [
    "y_pred = gb.predict(X_train)\n",
    "f1 = f1_score(y_train, y_pred)\n",
    "f1"
   ]
  },
  {
   "cell_type": "code",
   "execution_count": 31,
   "metadata": {},
   "outputs": [
    {
     "data": {
      "text/plain": [
       "0.8518518518518519"
      ]
     },
     "execution_count": 31,
     "metadata": {},
     "output_type": "execute_result"
    }
   ],
   "source": [
    "clf = GradientBoostingClassifier(learning_rate = 0.1, subsample = 0.5, random_state = 42)\n",
    "clf.fit(X_train, y_train)\n",
    "y_pred = clf.predict(X_test)\n",
    "\n",
    "# Расчет метрики F1\n",
    "f1 = f1_score(y_test, y_pred)\n",
    "f1"
   ]
  },
  {
   "cell_type": "code",
   "execution_count": 32,
   "metadata": {},
   "outputs": [
    {
     "data": {
      "text/plain": [
       "0.8401428571428571"
      ]
     },
     "execution_count": 32,
     "metadata": {},
     "output_type": "execute_result"
    }
   ],
   "source": [
    "np.mean(cross_val_score(clf, X, y, scoring = 'f1', cv = 100))"
   ]
  },
  {
   "cell_type": "markdown",
   "metadata": {},
   "source": [
    "# Рандом форест"
   ]
  },
  {
   "cell_type": "code",
   "execution_count": 33,
   "metadata": {},
   "outputs": [],
   "source": [
    "num_transformer = Pipeline(steps=[\n",
    "    ('scaler', Normalizer())\n",
    "])\n",
    "cat_transformer = Pipeline(steps=[\n",
    "    ('scaler', Normalizer())    \n",
    "])\n",
    "cat_enc_1_transformer = Pipeline(steps=[\n",
    "     ('scaler', Normalizer())    \n",
    " ])"
   ]
  },
  {
   "cell_type": "code",
   "execution_count": 34,
   "metadata": {},
   "outputs": [],
   "source": [
    "ct = ColumnTransformer(\n",
    "    transformers=[\n",
    "        ('num_transformer', num_transformer, num_features),\n",
    "      ('cat_transformer', cat_transformer, cat_features),\n",
    "         ('cat_enc_1',cat_enc_1_transformer , cat_enc_1),\n",
    "    ],\n",
    "    remainder='passthrough'\n",
    ")"
   ]
  },
  {
   "cell_type": "code",
   "execution_count": 77,
   "metadata": {},
   "outputs": [
    {
     "data": {
      "text/html": [
       "<style>#sk-container-id-19 {color: black;}#sk-container-id-19 pre{padding: 0;}#sk-container-id-19 div.sk-toggleable {background-color: white;}#sk-container-id-19 label.sk-toggleable__label {cursor: pointer;display: block;width: 100%;margin-bottom: 0;padding: 0.3em;box-sizing: border-box;text-align: center;}#sk-container-id-19 label.sk-toggleable__label-arrow:before {content: \"▸\";float: left;margin-right: 0.25em;color: #696969;}#sk-container-id-19 label.sk-toggleable__label-arrow:hover:before {color: black;}#sk-container-id-19 div.sk-estimator:hover label.sk-toggleable__label-arrow:before {color: black;}#sk-container-id-19 div.sk-toggleable__content {max-height: 0;max-width: 0;overflow: hidden;text-align: left;background-color: #f0f8ff;}#sk-container-id-19 div.sk-toggleable__content pre {margin: 0.2em;color: black;border-radius: 0.25em;background-color: #f0f8ff;}#sk-container-id-19 input.sk-toggleable__control:checked~div.sk-toggleable__content {max-height: 200px;max-width: 100%;overflow: auto;}#sk-container-id-19 input.sk-toggleable__control:checked~label.sk-toggleable__label-arrow:before {content: \"▾\";}#sk-container-id-19 div.sk-estimator input.sk-toggleable__control:checked~label.sk-toggleable__label {background-color: #d4ebff;}#sk-container-id-19 div.sk-label input.sk-toggleable__control:checked~label.sk-toggleable__label {background-color: #d4ebff;}#sk-container-id-19 input.sk-hidden--visually {border: 0;clip: rect(1px 1px 1px 1px);clip: rect(1px, 1px, 1px, 1px);height: 1px;margin: -1px;overflow: hidden;padding: 0;position: absolute;width: 1px;}#sk-container-id-19 div.sk-estimator {font-family: monospace;background-color: #f0f8ff;border: 1px dotted black;border-radius: 0.25em;box-sizing: border-box;margin-bottom: 0.5em;}#sk-container-id-19 div.sk-estimator:hover {background-color: #d4ebff;}#sk-container-id-19 div.sk-parallel-item::after {content: \"\";width: 100%;border-bottom: 1px solid gray;flex-grow: 1;}#sk-container-id-19 div.sk-label:hover label.sk-toggleable__label {background-color: #d4ebff;}#sk-container-id-19 div.sk-serial::before {content: \"\";position: absolute;border-left: 1px solid gray;box-sizing: border-box;top: 0;bottom: 0;left: 50%;z-index: 0;}#sk-container-id-19 div.sk-serial {display: flex;flex-direction: column;align-items: center;background-color: white;padding-right: 0.2em;padding-left: 0.2em;position: relative;}#sk-container-id-19 div.sk-item {position: relative;z-index: 1;}#sk-container-id-19 div.sk-parallel {display: flex;align-items: stretch;justify-content: center;background-color: white;position: relative;}#sk-container-id-19 div.sk-item::before, #sk-container-id-19 div.sk-parallel-item::before {content: \"\";position: absolute;border-left: 1px solid gray;box-sizing: border-box;top: 0;bottom: 0;left: 50%;z-index: -1;}#sk-container-id-19 div.sk-parallel-item {display: flex;flex-direction: column;z-index: 1;position: relative;background-color: white;}#sk-container-id-19 div.sk-parallel-item:first-child::after {align-self: flex-end;width: 50%;}#sk-container-id-19 div.sk-parallel-item:last-child::after {align-self: flex-start;width: 50%;}#sk-container-id-19 div.sk-parallel-item:only-child::after {width: 0;}#sk-container-id-19 div.sk-dashed-wrapped {border: 1px dashed gray;margin: 0 0.4em 0.5em 0.4em;box-sizing: border-box;padding-bottom: 0.4em;background-color: white;}#sk-container-id-19 div.sk-label label {font-family: monospace;font-weight: bold;display: inline-block;line-height: 1.2em;}#sk-container-id-19 div.sk-label-container {text-align: center;}#sk-container-id-19 div.sk-container {/* jupyter's `normalize.less` sets `[hidden] { display: none; }` but bootstrap.min.css set `[hidden] { display: none !important; }` so we also need the `!important` here to be able to override the default hidden behavior on the sphinx rendered scikit-learn.org. See: https://github.com/scikit-learn/scikit-learn/issues/21755 */display: inline-block !important;position: relative;}#sk-container-id-19 div.sk-text-repr-fallback {display: none;}</style><div id=\"sk-container-id-19\" class=\"sk-top-container\"><div class=\"sk-text-repr-fallback\"><pre>Pipeline(steps=[(&#x27;preproc&#x27;,\n",
       "                 ColumnTransformer(remainder=&#x27;passthrough&#x27;,\n",
       "                                   transformers=[(&#x27;num_transformer&#x27;,\n",
       "                                                  Pipeline(steps=[(&#x27;scaler&#x27;,\n",
       "                                                                   Normalizer())]),\n",
       "                                                  [&#x27;N2&#x27;, &#x27;N3&#x27;, &#x27;N7&#x27;, &#x27;N10&#x27;,\n",
       "                                                   &#x27;N13&#x27;, &#x27;N14&#x27;]),\n",
       "                                                 (&#x27;cat_transformer&#x27;,\n",
       "                                                  Pipeline(steps=[(&#x27;scaler&#x27;,\n",
       "                                                                   Normalizer())]),\n",
       "                                                  [&#x27;C1&#x27;, &#x27;C9&#x27;, &#x27;C11&#x27;]),\n",
       "                                                 (&#x27;cat_enc_1&#x27;,\n",
       "                                                  Pipeline(steps=[(&#x27;scaler&#x27;,\n",
       "                                                                   Normalizer())]),\n",
       "                                                  [&#x27;C6_enc&#x27;, &#x27;C5_enc&#x27;, &#x27;C4_enc&#x27;,\n",
       "                                                   &#x27;C12_enc&#x27;])])),\n",
       "                (&#x27;estimator&#x27;, GradientBoostingClassifier())])</pre><b>In a Jupyter environment, please rerun this cell to show the HTML representation or trust the notebook. <br />On GitHub, the HTML representation is unable to render, please try loading this page with nbviewer.org.</b></div><div class=\"sk-container\" hidden><div class=\"sk-item sk-dashed-wrapped\"><div class=\"sk-label-container\"><div class=\"sk-label sk-toggleable\"><input class=\"sk-toggleable__control sk-hidden--visually\" id=\"sk-estimator-id-203\" type=\"checkbox\" ><label for=\"sk-estimator-id-203\" class=\"sk-toggleable__label sk-toggleable__label-arrow\">Pipeline</label><div class=\"sk-toggleable__content\"><pre>Pipeline(steps=[(&#x27;preproc&#x27;,\n",
       "                 ColumnTransformer(remainder=&#x27;passthrough&#x27;,\n",
       "                                   transformers=[(&#x27;num_transformer&#x27;,\n",
       "                                                  Pipeline(steps=[(&#x27;scaler&#x27;,\n",
       "                                                                   Normalizer())]),\n",
       "                                                  [&#x27;N2&#x27;, &#x27;N3&#x27;, &#x27;N7&#x27;, &#x27;N10&#x27;,\n",
       "                                                   &#x27;N13&#x27;, &#x27;N14&#x27;]),\n",
       "                                                 (&#x27;cat_transformer&#x27;,\n",
       "                                                  Pipeline(steps=[(&#x27;scaler&#x27;,\n",
       "                                                                   Normalizer())]),\n",
       "                                                  [&#x27;C1&#x27;, &#x27;C9&#x27;, &#x27;C11&#x27;]),\n",
       "                                                 (&#x27;cat_enc_1&#x27;,\n",
       "                                                  Pipeline(steps=[(&#x27;scaler&#x27;,\n",
       "                                                                   Normalizer())]),\n",
       "                                                  [&#x27;C6_enc&#x27;, &#x27;C5_enc&#x27;, &#x27;C4_enc&#x27;,\n",
       "                                                   &#x27;C12_enc&#x27;])])),\n",
       "                (&#x27;estimator&#x27;, GradientBoostingClassifier())])</pre></div></div></div><div class=\"sk-serial\"><div class=\"sk-item sk-dashed-wrapped\"><div class=\"sk-label-container\"><div class=\"sk-label sk-toggleable\"><input class=\"sk-toggleable__control sk-hidden--visually\" id=\"sk-estimator-id-204\" type=\"checkbox\" ><label for=\"sk-estimator-id-204\" class=\"sk-toggleable__label sk-toggleable__label-arrow\">preproc: ColumnTransformer</label><div class=\"sk-toggleable__content\"><pre>ColumnTransformer(remainder=&#x27;passthrough&#x27;,\n",
       "                  transformers=[(&#x27;num_transformer&#x27;,\n",
       "                                 Pipeline(steps=[(&#x27;scaler&#x27;, Normalizer())]),\n",
       "                                 [&#x27;N2&#x27;, &#x27;N3&#x27;, &#x27;N7&#x27;, &#x27;N10&#x27;, &#x27;N13&#x27;, &#x27;N14&#x27;]),\n",
       "                                (&#x27;cat_transformer&#x27;,\n",
       "                                 Pipeline(steps=[(&#x27;scaler&#x27;, Normalizer())]),\n",
       "                                 [&#x27;C1&#x27;, &#x27;C9&#x27;, &#x27;C11&#x27;]),\n",
       "                                (&#x27;cat_enc_1&#x27;,\n",
       "                                 Pipeline(steps=[(&#x27;scaler&#x27;, Normalizer())]),\n",
       "                                 [&#x27;C6_enc&#x27;, &#x27;C5_enc&#x27;, &#x27;C4_enc&#x27;, &#x27;C12_enc&#x27;])])</pre></div></div></div><div class=\"sk-parallel\"><div class=\"sk-parallel-item\"><div class=\"sk-item\"><div class=\"sk-label-container\"><div class=\"sk-label sk-toggleable\"><input class=\"sk-toggleable__control sk-hidden--visually\" id=\"sk-estimator-id-205\" type=\"checkbox\" ><label for=\"sk-estimator-id-205\" class=\"sk-toggleable__label sk-toggleable__label-arrow\">num_transformer</label><div class=\"sk-toggleable__content\"><pre>[&#x27;N2&#x27;, &#x27;N3&#x27;, &#x27;N7&#x27;, &#x27;N10&#x27;, &#x27;N13&#x27;, &#x27;N14&#x27;]</pre></div></div></div><div class=\"sk-serial\"><div class=\"sk-item\"><div class=\"sk-serial\"><div class=\"sk-item\"><div class=\"sk-estimator sk-toggleable\"><input class=\"sk-toggleable__control sk-hidden--visually\" id=\"sk-estimator-id-206\" type=\"checkbox\" ><label for=\"sk-estimator-id-206\" class=\"sk-toggleable__label sk-toggleable__label-arrow\">Normalizer</label><div class=\"sk-toggleable__content\"><pre>Normalizer()</pre></div></div></div></div></div></div></div></div><div class=\"sk-parallel-item\"><div class=\"sk-item\"><div class=\"sk-label-container\"><div class=\"sk-label sk-toggleable\"><input class=\"sk-toggleable__control sk-hidden--visually\" id=\"sk-estimator-id-207\" type=\"checkbox\" ><label for=\"sk-estimator-id-207\" class=\"sk-toggleable__label sk-toggleable__label-arrow\">cat_transformer</label><div class=\"sk-toggleable__content\"><pre>[&#x27;C1&#x27;, &#x27;C9&#x27;, &#x27;C11&#x27;]</pre></div></div></div><div class=\"sk-serial\"><div class=\"sk-item\"><div class=\"sk-serial\"><div class=\"sk-item\"><div class=\"sk-estimator sk-toggleable\"><input class=\"sk-toggleable__control sk-hidden--visually\" id=\"sk-estimator-id-208\" type=\"checkbox\" ><label for=\"sk-estimator-id-208\" class=\"sk-toggleable__label sk-toggleable__label-arrow\">Normalizer</label><div class=\"sk-toggleable__content\"><pre>Normalizer()</pre></div></div></div></div></div></div></div></div><div class=\"sk-parallel-item\"><div class=\"sk-item\"><div class=\"sk-label-container\"><div class=\"sk-label sk-toggleable\"><input class=\"sk-toggleable__control sk-hidden--visually\" id=\"sk-estimator-id-209\" type=\"checkbox\" ><label for=\"sk-estimator-id-209\" class=\"sk-toggleable__label sk-toggleable__label-arrow\">cat_enc_1</label><div class=\"sk-toggleable__content\"><pre>[&#x27;C6_enc&#x27;, &#x27;C5_enc&#x27;, &#x27;C4_enc&#x27;, &#x27;C12_enc&#x27;]</pre></div></div></div><div class=\"sk-serial\"><div class=\"sk-item\"><div class=\"sk-serial\"><div class=\"sk-item\"><div class=\"sk-estimator sk-toggleable\"><input class=\"sk-toggleable__control sk-hidden--visually\" id=\"sk-estimator-id-210\" type=\"checkbox\" ><label for=\"sk-estimator-id-210\" class=\"sk-toggleable__label sk-toggleable__label-arrow\">Normalizer</label><div class=\"sk-toggleable__content\"><pre>Normalizer()</pre></div></div></div></div></div></div></div></div><div class=\"sk-parallel-item\"><div class=\"sk-item\"><div class=\"sk-label-container\"><div class=\"sk-label sk-toggleable\"><input class=\"sk-toggleable__control sk-hidden--visually\" id=\"sk-estimator-id-211\" type=\"checkbox\" ><label for=\"sk-estimator-id-211\" class=\"sk-toggleable__label sk-toggleable__label-arrow\">remainder</label><div class=\"sk-toggleable__content\"><pre>[&#x27;C8&#x27;]</pre></div></div></div><div class=\"sk-serial\"><div class=\"sk-item\"><div class=\"sk-estimator sk-toggleable\"><input class=\"sk-toggleable__control sk-hidden--visually\" id=\"sk-estimator-id-212\" type=\"checkbox\" ><label for=\"sk-estimator-id-212\" class=\"sk-toggleable__label sk-toggleable__label-arrow\">passthrough</label><div class=\"sk-toggleable__content\"><pre>passthrough</pre></div></div></div></div></div></div></div></div><div class=\"sk-item\"><div class=\"sk-estimator sk-toggleable\"><input class=\"sk-toggleable__control sk-hidden--visually\" id=\"sk-estimator-id-213\" type=\"checkbox\" ><label for=\"sk-estimator-id-213\" class=\"sk-toggleable__label sk-toggleable__label-arrow\">GradientBoostingClassifier</label><div class=\"sk-toggleable__content\"><pre>GradientBoostingClassifier()</pre></div></div></div></div></div></div></div>"
      ],
      "text/plain": [
       "Pipeline(steps=[('preproc',\n",
       "                 ColumnTransformer(remainder='passthrough',\n",
       "                                   transformers=[('num_transformer',\n",
       "                                                  Pipeline(steps=[('scaler',\n",
       "                                                                   Normalizer())]),\n",
       "                                                  ['N2', 'N3', 'N7', 'N10',\n",
       "                                                   'N13', 'N14']),\n",
       "                                                 ('cat_transformer',\n",
       "                                                  Pipeline(steps=[('scaler',\n",
       "                                                                   Normalizer())]),\n",
       "                                                  ['C1', 'C9', 'C11']),\n",
       "                                                 ('cat_enc_1',\n",
       "                                                  Pipeline(steps=[('scaler',\n",
       "                                                                   Normalizer())]),\n",
       "                                                  ['C6_enc', 'C5_enc', 'C4_enc',\n",
       "                                                   'C12_enc'])])),\n",
       "                ('estimator', GradientBoostingClassifier())])"
      ]
     },
     "execution_count": 77,
     "metadata": {},
     "output_type": "execute_result"
    }
   ],
   "source": [
    "model_baseline_2 = Pipeline(steps=[\n",
    "        ('preproc', ct),\n",
    "        ('estimator', RandomForestClassifier())\n",
    "    ],\n",
    ")\n",
    "model_baseline_1.fit(X_train, y_train)"
   ]
  },
  {
   "cell_type": "code",
   "execution_count": 78,
   "metadata": {},
   "outputs": [],
   "source": [
    "param_grid_base = {\n",
    "    'preproc__num_transformer__scaler' :[StandardScaler(), RobustScaler(), MinMaxScaler(), Normalizer()],\n",
    "     'preproc__cat_transformer__scaler' :[StandardScaler(), RobustScaler(),MinMaxScaler()],\n",
    "     'preproc__cat_enc_1__scaler' :[StandardScaler(), RobustScaler(),MinMaxScaler()],\n",
    "   'estimator__criterion': ['gini','entropy'],\n",
    "    #'estimator__n_estimators': range(50,400),\n",
    "    'estimator__max_features': range(4,11),\n",
    "    #'estimator__min_samples_split': [2, 5, 10],\n",
    "    \n",
    "}"
   ]
  },
  {
   "cell_type": "code",
   "execution_count": 79,
   "metadata": {},
   "outputs": [
    {
     "data": {
      "text/html": [
       "<style>#sk-container-id-20 {color: black;}#sk-container-id-20 pre{padding: 0;}#sk-container-id-20 div.sk-toggleable {background-color: white;}#sk-container-id-20 label.sk-toggleable__label {cursor: pointer;display: block;width: 100%;margin-bottom: 0;padding: 0.3em;box-sizing: border-box;text-align: center;}#sk-container-id-20 label.sk-toggleable__label-arrow:before {content: \"▸\";float: left;margin-right: 0.25em;color: #696969;}#sk-container-id-20 label.sk-toggleable__label-arrow:hover:before {color: black;}#sk-container-id-20 div.sk-estimator:hover label.sk-toggleable__label-arrow:before {color: black;}#sk-container-id-20 div.sk-toggleable__content {max-height: 0;max-width: 0;overflow: hidden;text-align: left;background-color: #f0f8ff;}#sk-container-id-20 div.sk-toggleable__content pre {margin: 0.2em;color: black;border-radius: 0.25em;background-color: #f0f8ff;}#sk-container-id-20 input.sk-toggleable__control:checked~div.sk-toggleable__content {max-height: 200px;max-width: 100%;overflow: auto;}#sk-container-id-20 input.sk-toggleable__control:checked~label.sk-toggleable__label-arrow:before {content: \"▾\";}#sk-container-id-20 div.sk-estimator input.sk-toggleable__control:checked~label.sk-toggleable__label {background-color: #d4ebff;}#sk-container-id-20 div.sk-label input.sk-toggleable__control:checked~label.sk-toggleable__label {background-color: #d4ebff;}#sk-container-id-20 input.sk-hidden--visually {border: 0;clip: rect(1px 1px 1px 1px);clip: rect(1px, 1px, 1px, 1px);height: 1px;margin: -1px;overflow: hidden;padding: 0;position: absolute;width: 1px;}#sk-container-id-20 div.sk-estimator {font-family: monospace;background-color: #f0f8ff;border: 1px dotted black;border-radius: 0.25em;box-sizing: border-box;margin-bottom: 0.5em;}#sk-container-id-20 div.sk-estimator:hover {background-color: #d4ebff;}#sk-container-id-20 div.sk-parallel-item::after {content: \"\";width: 100%;border-bottom: 1px solid gray;flex-grow: 1;}#sk-container-id-20 div.sk-label:hover label.sk-toggleable__label {background-color: #d4ebff;}#sk-container-id-20 div.sk-serial::before {content: \"\";position: absolute;border-left: 1px solid gray;box-sizing: border-box;top: 0;bottom: 0;left: 50%;z-index: 0;}#sk-container-id-20 div.sk-serial {display: flex;flex-direction: column;align-items: center;background-color: white;padding-right: 0.2em;padding-left: 0.2em;position: relative;}#sk-container-id-20 div.sk-item {position: relative;z-index: 1;}#sk-container-id-20 div.sk-parallel {display: flex;align-items: stretch;justify-content: center;background-color: white;position: relative;}#sk-container-id-20 div.sk-item::before, #sk-container-id-20 div.sk-parallel-item::before {content: \"\";position: absolute;border-left: 1px solid gray;box-sizing: border-box;top: 0;bottom: 0;left: 50%;z-index: -1;}#sk-container-id-20 div.sk-parallel-item {display: flex;flex-direction: column;z-index: 1;position: relative;background-color: white;}#sk-container-id-20 div.sk-parallel-item:first-child::after {align-self: flex-end;width: 50%;}#sk-container-id-20 div.sk-parallel-item:last-child::after {align-self: flex-start;width: 50%;}#sk-container-id-20 div.sk-parallel-item:only-child::after {width: 0;}#sk-container-id-20 div.sk-dashed-wrapped {border: 1px dashed gray;margin: 0 0.4em 0.5em 0.4em;box-sizing: border-box;padding-bottom: 0.4em;background-color: white;}#sk-container-id-20 div.sk-label label {font-family: monospace;font-weight: bold;display: inline-block;line-height: 1.2em;}#sk-container-id-20 div.sk-label-container {text-align: center;}#sk-container-id-20 div.sk-container {/* jupyter's `normalize.less` sets `[hidden] { display: none; }` but bootstrap.min.css set `[hidden] { display: none !important; }` so we also need the `!important` here to be able to override the default hidden behavior on the sphinx rendered scikit-learn.org. See: https://github.com/scikit-learn/scikit-learn/issues/21755 */display: inline-block !important;position: relative;}#sk-container-id-20 div.sk-text-repr-fallback {display: none;}</style><div id=\"sk-container-id-20\" class=\"sk-top-container\"><div class=\"sk-text-repr-fallback\"><pre>GridSearchCV(estimator=Pipeline(steps=[(&#x27;preproc&#x27;,\n",
       "                                        ColumnTransformer(remainder=&#x27;passthrough&#x27;,\n",
       "                                                          transformers=[(&#x27;num_transformer&#x27;,\n",
       "                                                                         Pipeline(steps=[(&#x27;scaler&#x27;,\n",
       "                                                                                          Normalizer())]),\n",
       "                                                                         [&#x27;N2&#x27;,\n",
       "                                                                          &#x27;N3&#x27;,\n",
       "                                                                          &#x27;N7&#x27;,\n",
       "                                                                          &#x27;N10&#x27;,\n",
       "                                                                          &#x27;N13&#x27;,\n",
       "                                                                          &#x27;N14&#x27;]),\n",
       "                                                                        (&#x27;cat_transformer&#x27;,\n",
       "                                                                         Pipeline(steps=[(&#x27;scaler&#x27;,\n",
       "                                                                                          Normalizer())]),\n",
       "                                                                         [&#x27;C1&#x27;,\n",
       "                                                                          &#x27;C9&#x27;,\n",
       "                                                                          &#x27;C11&#x27;]),\n",
       "                                                                        (&#x27;cat_enc_1&#x27;,\n",
       "                                                                         Pipeline(steps=[(&#x27;scaler&#x27;,\n",
       "                                                                                          Normalizer())]),\n",
       "                                                                         [&#x27;C6_enc&#x27;,\n",
       "                                                                          &#x27;C...\n",
       "             param_grid={&#x27;estimator__criterion&#x27;: [&#x27;gini&#x27;, &#x27;entropy&#x27;],\n",
       "                         &#x27;estimator__max_features&#x27;: range(4, 11),\n",
       "                         &#x27;preproc__cat_enc_1__scaler&#x27;: [StandardScaler(),\n",
       "                                                        RobustScaler(),\n",
       "                                                        MinMaxScaler()],\n",
       "                         &#x27;preproc__cat_transformer__scaler&#x27;: [StandardScaler(),\n",
       "                                                              RobustScaler(),\n",
       "                                                              MinMaxScaler()],\n",
       "                         &#x27;preproc__num_transformer__scaler&#x27;: [StandardScaler(),\n",
       "                                                              RobustScaler(),\n",
       "                                                              MinMaxScaler(),\n",
       "                                                              Normalizer()]},\n",
       "             scoring=&#x27;f1&#x27;)</pre><b>In a Jupyter environment, please rerun this cell to show the HTML representation or trust the notebook. <br />On GitHub, the HTML representation is unable to render, please try loading this page with nbviewer.org.</b></div><div class=\"sk-container\" hidden><div class=\"sk-item sk-dashed-wrapped\"><div class=\"sk-label-container\"><div class=\"sk-label sk-toggleable\"><input class=\"sk-toggleable__control sk-hidden--visually\" id=\"sk-estimator-id-214\" type=\"checkbox\" ><label for=\"sk-estimator-id-214\" class=\"sk-toggleable__label sk-toggleable__label-arrow\">GridSearchCV</label><div class=\"sk-toggleable__content\"><pre>GridSearchCV(estimator=Pipeline(steps=[(&#x27;preproc&#x27;,\n",
       "                                        ColumnTransformer(remainder=&#x27;passthrough&#x27;,\n",
       "                                                          transformers=[(&#x27;num_transformer&#x27;,\n",
       "                                                                         Pipeline(steps=[(&#x27;scaler&#x27;,\n",
       "                                                                                          Normalizer())]),\n",
       "                                                                         [&#x27;N2&#x27;,\n",
       "                                                                          &#x27;N3&#x27;,\n",
       "                                                                          &#x27;N7&#x27;,\n",
       "                                                                          &#x27;N10&#x27;,\n",
       "                                                                          &#x27;N13&#x27;,\n",
       "                                                                          &#x27;N14&#x27;]),\n",
       "                                                                        (&#x27;cat_transformer&#x27;,\n",
       "                                                                         Pipeline(steps=[(&#x27;scaler&#x27;,\n",
       "                                                                                          Normalizer())]),\n",
       "                                                                         [&#x27;C1&#x27;,\n",
       "                                                                          &#x27;C9&#x27;,\n",
       "                                                                          &#x27;C11&#x27;]),\n",
       "                                                                        (&#x27;cat_enc_1&#x27;,\n",
       "                                                                         Pipeline(steps=[(&#x27;scaler&#x27;,\n",
       "                                                                                          Normalizer())]),\n",
       "                                                                         [&#x27;C6_enc&#x27;,\n",
       "                                                                          &#x27;C...\n",
       "             param_grid={&#x27;estimator__criterion&#x27;: [&#x27;gini&#x27;, &#x27;entropy&#x27;],\n",
       "                         &#x27;estimator__max_features&#x27;: range(4, 11),\n",
       "                         &#x27;preproc__cat_enc_1__scaler&#x27;: [StandardScaler(),\n",
       "                                                        RobustScaler(),\n",
       "                                                        MinMaxScaler()],\n",
       "                         &#x27;preproc__cat_transformer__scaler&#x27;: [StandardScaler(),\n",
       "                                                              RobustScaler(),\n",
       "                                                              MinMaxScaler()],\n",
       "                         &#x27;preproc__num_transformer__scaler&#x27;: [StandardScaler(),\n",
       "                                                              RobustScaler(),\n",
       "                                                              MinMaxScaler(),\n",
       "                                                              Normalizer()]},\n",
       "             scoring=&#x27;f1&#x27;)</pre></div></div></div><div class=\"sk-parallel\"><div class=\"sk-parallel-item\"><div class=\"sk-item\"><div class=\"sk-label-container\"><div class=\"sk-label sk-toggleable\"><input class=\"sk-toggleable__control sk-hidden--visually\" id=\"sk-estimator-id-215\" type=\"checkbox\" ><label for=\"sk-estimator-id-215\" class=\"sk-toggleable__label sk-toggleable__label-arrow\">estimator: Pipeline</label><div class=\"sk-toggleable__content\"><pre>Pipeline(steps=[(&#x27;preproc&#x27;,\n",
       "                 ColumnTransformer(remainder=&#x27;passthrough&#x27;,\n",
       "                                   transformers=[(&#x27;num_transformer&#x27;,\n",
       "                                                  Pipeline(steps=[(&#x27;scaler&#x27;,\n",
       "                                                                   Normalizer())]),\n",
       "                                                  [&#x27;N2&#x27;, &#x27;N3&#x27;, &#x27;N7&#x27;, &#x27;N10&#x27;,\n",
       "                                                   &#x27;N13&#x27;, &#x27;N14&#x27;]),\n",
       "                                                 (&#x27;cat_transformer&#x27;,\n",
       "                                                  Pipeline(steps=[(&#x27;scaler&#x27;,\n",
       "                                                                   Normalizer())]),\n",
       "                                                  [&#x27;C1&#x27;, &#x27;C9&#x27;, &#x27;C11&#x27;]),\n",
       "                                                 (&#x27;cat_enc_1&#x27;,\n",
       "                                                  Pipeline(steps=[(&#x27;scaler&#x27;,\n",
       "                                                                   Normalizer())]),\n",
       "                                                  [&#x27;C6_enc&#x27;, &#x27;C5_enc&#x27;, &#x27;C4_enc&#x27;,\n",
       "                                                   &#x27;C12_enc&#x27;])])),\n",
       "                (&#x27;estimator&#x27;, RandomForestClassifier())])</pre></div></div></div><div class=\"sk-serial\"><div class=\"sk-item\"><div class=\"sk-serial\"><div class=\"sk-item sk-dashed-wrapped\"><div class=\"sk-label-container\"><div class=\"sk-label sk-toggleable\"><input class=\"sk-toggleable__control sk-hidden--visually\" id=\"sk-estimator-id-216\" type=\"checkbox\" ><label for=\"sk-estimator-id-216\" class=\"sk-toggleable__label sk-toggleable__label-arrow\">preproc: ColumnTransformer</label><div class=\"sk-toggleable__content\"><pre>ColumnTransformer(remainder=&#x27;passthrough&#x27;,\n",
       "                  transformers=[(&#x27;num_transformer&#x27;,\n",
       "                                 Pipeline(steps=[(&#x27;scaler&#x27;, Normalizer())]),\n",
       "                                 [&#x27;N2&#x27;, &#x27;N3&#x27;, &#x27;N7&#x27;, &#x27;N10&#x27;, &#x27;N13&#x27;, &#x27;N14&#x27;]),\n",
       "                                (&#x27;cat_transformer&#x27;,\n",
       "                                 Pipeline(steps=[(&#x27;scaler&#x27;, Normalizer())]),\n",
       "                                 [&#x27;C1&#x27;, &#x27;C9&#x27;, &#x27;C11&#x27;]),\n",
       "                                (&#x27;cat_enc_1&#x27;,\n",
       "                                 Pipeline(steps=[(&#x27;scaler&#x27;, Normalizer())]),\n",
       "                                 [&#x27;C6_enc&#x27;, &#x27;C5_enc&#x27;, &#x27;C4_enc&#x27;, &#x27;C12_enc&#x27;])])</pre></div></div></div><div class=\"sk-parallel\"><div class=\"sk-parallel-item\"><div class=\"sk-item\"><div class=\"sk-label-container\"><div class=\"sk-label sk-toggleable\"><input class=\"sk-toggleable__control sk-hidden--visually\" id=\"sk-estimator-id-217\" type=\"checkbox\" ><label for=\"sk-estimator-id-217\" class=\"sk-toggleable__label sk-toggleable__label-arrow\">num_transformer</label><div class=\"sk-toggleable__content\"><pre>[&#x27;N2&#x27;, &#x27;N3&#x27;, &#x27;N7&#x27;, &#x27;N10&#x27;, &#x27;N13&#x27;, &#x27;N14&#x27;]</pre></div></div></div><div class=\"sk-serial\"><div class=\"sk-item\"><div class=\"sk-serial\"><div class=\"sk-item\"><div class=\"sk-estimator sk-toggleable\"><input class=\"sk-toggleable__control sk-hidden--visually\" id=\"sk-estimator-id-218\" type=\"checkbox\" ><label for=\"sk-estimator-id-218\" class=\"sk-toggleable__label sk-toggleable__label-arrow\">Normalizer</label><div class=\"sk-toggleable__content\"><pre>Normalizer()</pre></div></div></div></div></div></div></div></div><div class=\"sk-parallel-item\"><div class=\"sk-item\"><div class=\"sk-label-container\"><div class=\"sk-label sk-toggleable\"><input class=\"sk-toggleable__control sk-hidden--visually\" id=\"sk-estimator-id-219\" type=\"checkbox\" ><label for=\"sk-estimator-id-219\" class=\"sk-toggleable__label sk-toggleable__label-arrow\">cat_transformer</label><div class=\"sk-toggleable__content\"><pre>[&#x27;C1&#x27;, &#x27;C9&#x27;, &#x27;C11&#x27;]</pre></div></div></div><div class=\"sk-serial\"><div class=\"sk-item\"><div class=\"sk-serial\"><div class=\"sk-item\"><div class=\"sk-estimator sk-toggleable\"><input class=\"sk-toggleable__control sk-hidden--visually\" id=\"sk-estimator-id-220\" type=\"checkbox\" ><label for=\"sk-estimator-id-220\" class=\"sk-toggleable__label sk-toggleable__label-arrow\">Normalizer</label><div class=\"sk-toggleable__content\"><pre>Normalizer()</pre></div></div></div></div></div></div></div></div><div class=\"sk-parallel-item\"><div class=\"sk-item\"><div class=\"sk-label-container\"><div class=\"sk-label sk-toggleable\"><input class=\"sk-toggleable__control sk-hidden--visually\" id=\"sk-estimator-id-221\" type=\"checkbox\" ><label for=\"sk-estimator-id-221\" class=\"sk-toggleable__label sk-toggleable__label-arrow\">cat_enc_1</label><div class=\"sk-toggleable__content\"><pre>[&#x27;C6_enc&#x27;, &#x27;C5_enc&#x27;, &#x27;C4_enc&#x27;, &#x27;C12_enc&#x27;]</pre></div></div></div><div class=\"sk-serial\"><div class=\"sk-item\"><div class=\"sk-serial\"><div class=\"sk-item\"><div class=\"sk-estimator sk-toggleable\"><input class=\"sk-toggleable__control sk-hidden--visually\" id=\"sk-estimator-id-222\" type=\"checkbox\" ><label for=\"sk-estimator-id-222\" class=\"sk-toggleable__label sk-toggleable__label-arrow\">Normalizer</label><div class=\"sk-toggleable__content\"><pre>Normalizer()</pre></div></div></div></div></div></div></div></div><div class=\"sk-parallel-item\"><div class=\"sk-item\"><div class=\"sk-label-container\"><div class=\"sk-label sk-toggleable\"><input class=\"sk-toggleable__control sk-hidden--visually\" id=\"sk-estimator-id-223\" type=\"checkbox\" ><label for=\"sk-estimator-id-223\" class=\"sk-toggleable__label sk-toggleable__label-arrow\">remainder</label><div class=\"sk-toggleable__content\"><pre></pre></div></div></div><div class=\"sk-serial\"><div class=\"sk-item\"><div class=\"sk-estimator sk-toggleable\"><input class=\"sk-toggleable__control sk-hidden--visually\" id=\"sk-estimator-id-224\" type=\"checkbox\" ><label for=\"sk-estimator-id-224\" class=\"sk-toggleable__label sk-toggleable__label-arrow\">passthrough</label><div class=\"sk-toggleable__content\"><pre>passthrough</pre></div></div></div></div></div></div></div></div><div class=\"sk-item\"><div class=\"sk-estimator sk-toggleable\"><input class=\"sk-toggleable__control sk-hidden--visually\" id=\"sk-estimator-id-225\" type=\"checkbox\" ><label for=\"sk-estimator-id-225\" class=\"sk-toggleable__label sk-toggleable__label-arrow\">RandomForestClassifier</label><div class=\"sk-toggleable__content\"><pre>RandomForestClassifier()</pre></div></div></div></div></div></div></div></div></div></div></div></div>"
      ],
      "text/plain": [
       "GridSearchCV(estimator=Pipeline(steps=[('preproc',\n",
       "                                        ColumnTransformer(remainder='passthrough',\n",
       "                                                          transformers=[('num_transformer',\n",
       "                                                                         Pipeline(steps=[('scaler',\n",
       "                                                                                          Normalizer())]),\n",
       "                                                                         ['N2',\n",
       "                                                                          'N3',\n",
       "                                                                          'N7',\n",
       "                                                                          'N10',\n",
       "                                                                          'N13',\n",
       "                                                                          'N14']),\n",
       "                                                                        ('cat_transformer',\n",
       "                                                                         Pipeline(steps=[('scaler',\n",
       "                                                                                          Normalizer())]),\n",
       "                                                                         ['C1',\n",
       "                                                                          'C9',\n",
       "                                                                          'C11']),\n",
       "                                                                        ('cat_enc_1',\n",
       "                                                                         Pipeline(steps=[('scaler',\n",
       "                                                                                          Normalizer())]),\n",
       "                                                                         ['C6_enc',\n",
       "                                                                          'C...\n",
       "             param_grid={'estimator__criterion': ['gini', 'entropy'],\n",
       "                         'estimator__max_features': range(4, 11),\n",
       "                         'preproc__cat_enc_1__scaler': [StandardScaler(),\n",
       "                                                        RobustScaler(),\n",
       "                                                        MinMaxScaler()],\n",
       "                         'preproc__cat_transformer__scaler': [StandardScaler(),\n",
       "                                                              RobustScaler(),\n",
       "                                                              MinMaxScaler()],\n",
       "                         'preproc__num_transformer__scaler': [StandardScaler(),\n",
       "                                                              RobustScaler(),\n",
       "                                                              MinMaxScaler(),\n",
       "                                                              Normalizer()]},\n",
       "             scoring='f1')"
      ]
     },
     "execution_count": 79,
     "metadata": {},
     "output_type": "execute_result"
    }
   ],
   "source": [
    "baseline_grid = GridSearchCV(model_baseline_2, n_jobs=-1, param_grid = param_grid_base, scoring='f1')\n",
    "baseline_grid.fit(X_train, y_train)"
   ]
  },
  {
   "cell_type": "code",
   "execution_count": 80,
   "metadata": {},
   "outputs": [
    {
     "name": "stdout",
     "output_type": "stream",
     "text": [
      "Лучшие параметры: {'estimator__criterion': 'gini', 'estimator__max_features': 4, 'preproc__cat_enc_1__scaler': MinMaxScaler(), 'preproc__cat_transformer__scaler': StandardScaler(), 'preproc__num_transformer__scaler': Normalizer()}\n"
     ]
    }
   ],
   "source": [
    "print(\"Лучшие параметры:\", baseline_grid.best_params_)"
   ]
  },
  {
   "cell_type": "code",
   "execution_count": 81,
   "metadata": {},
   "outputs": [
    {
     "name": "stdout",
     "output_type": "stream",
     "text": [
      "Метрика F1 модели :  0.8256880733944955\n"
     ]
    }
   ],
   "source": [
    "y_pred = baseline_grid.predict(X_test)\n",
    "f1 = f1_score(y_test, y_pred)\n",
    "print(\"Метрика F1 модели : \", f1)"
   ]
  },
  {
   "cell_type": "markdown",
   "metadata": {},
   "source": [
    "### Соберем модель и снова добавим несколько параметров вручную"
   ]
  },
  {
   "cell_type": "code",
   "execution_count": 82,
   "metadata": {},
   "outputs": [
    {
     "data": {
      "text/html": [
       "<style>#sk-container-id-21 {color: black;}#sk-container-id-21 pre{padding: 0;}#sk-container-id-21 div.sk-toggleable {background-color: white;}#sk-container-id-21 label.sk-toggleable__label {cursor: pointer;display: block;width: 100%;margin-bottom: 0;padding: 0.3em;box-sizing: border-box;text-align: center;}#sk-container-id-21 label.sk-toggleable__label-arrow:before {content: \"▸\";float: left;margin-right: 0.25em;color: #696969;}#sk-container-id-21 label.sk-toggleable__label-arrow:hover:before {color: black;}#sk-container-id-21 div.sk-estimator:hover label.sk-toggleable__label-arrow:before {color: black;}#sk-container-id-21 div.sk-toggleable__content {max-height: 0;max-width: 0;overflow: hidden;text-align: left;background-color: #f0f8ff;}#sk-container-id-21 div.sk-toggleable__content pre {margin: 0.2em;color: black;border-radius: 0.25em;background-color: #f0f8ff;}#sk-container-id-21 input.sk-toggleable__control:checked~div.sk-toggleable__content {max-height: 200px;max-width: 100%;overflow: auto;}#sk-container-id-21 input.sk-toggleable__control:checked~label.sk-toggleable__label-arrow:before {content: \"▾\";}#sk-container-id-21 div.sk-estimator input.sk-toggleable__control:checked~label.sk-toggleable__label {background-color: #d4ebff;}#sk-container-id-21 div.sk-label input.sk-toggleable__control:checked~label.sk-toggleable__label {background-color: #d4ebff;}#sk-container-id-21 input.sk-hidden--visually {border: 0;clip: rect(1px 1px 1px 1px);clip: rect(1px, 1px, 1px, 1px);height: 1px;margin: -1px;overflow: hidden;padding: 0;position: absolute;width: 1px;}#sk-container-id-21 div.sk-estimator {font-family: monospace;background-color: #f0f8ff;border: 1px dotted black;border-radius: 0.25em;box-sizing: border-box;margin-bottom: 0.5em;}#sk-container-id-21 div.sk-estimator:hover {background-color: #d4ebff;}#sk-container-id-21 div.sk-parallel-item::after {content: \"\";width: 100%;border-bottom: 1px solid gray;flex-grow: 1;}#sk-container-id-21 div.sk-label:hover label.sk-toggleable__label {background-color: #d4ebff;}#sk-container-id-21 div.sk-serial::before {content: \"\";position: absolute;border-left: 1px solid gray;box-sizing: border-box;top: 0;bottom: 0;left: 50%;z-index: 0;}#sk-container-id-21 div.sk-serial {display: flex;flex-direction: column;align-items: center;background-color: white;padding-right: 0.2em;padding-left: 0.2em;position: relative;}#sk-container-id-21 div.sk-item {position: relative;z-index: 1;}#sk-container-id-21 div.sk-parallel {display: flex;align-items: stretch;justify-content: center;background-color: white;position: relative;}#sk-container-id-21 div.sk-item::before, #sk-container-id-21 div.sk-parallel-item::before {content: \"\";position: absolute;border-left: 1px solid gray;box-sizing: border-box;top: 0;bottom: 0;left: 50%;z-index: -1;}#sk-container-id-21 div.sk-parallel-item {display: flex;flex-direction: column;z-index: 1;position: relative;background-color: white;}#sk-container-id-21 div.sk-parallel-item:first-child::after {align-self: flex-end;width: 50%;}#sk-container-id-21 div.sk-parallel-item:last-child::after {align-self: flex-start;width: 50%;}#sk-container-id-21 div.sk-parallel-item:only-child::after {width: 0;}#sk-container-id-21 div.sk-dashed-wrapped {border: 1px dashed gray;margin: 0 0.4em 0.5em 0.4em;box-sizing: border-box;padding-bottom: 0.4em;background-color: white;}#sk-container-id-21 div.sk-label label {font-family: monospace;font-weight: bold;display: inline-block;line-height: 1.2em;}#sk-container-id-21 div.sk-label-container {text-align: center;}#sk-container-id-21 div.sk-container {/* jupyter's `normalize.less` sets `[hidden] { display: none; }` but bootstrap.min.css set `[hidden] { display: none !important; }` so we also need the `!important` here to be able to override the default hidden behavior on the sphinx rendered scikit-learn.org. See: https://github.com/scikit-learn/scikit-learn/issues/21755 */display: inline-block !important;position: relative;}#sk-container-id-21 div.sk-text-repr-fallback {display: none;}</style><div id=\"sk-container-id-21\" class=\"sk-top-container\"><div class=\"sk-text-repr-fallback\"><pre>Pipeline(steps=[(&#x27;preproc&#x27;,\n",
       "                 ColumnTransformer(remainder=&#x27;passthrough&#x27;,\n",
       "                                   transformers=[(&#x27;num_transformer&#x27;,\n",
       "                                                  Pipeline(steps=[(&#x27;scaler&#x27;,\n",
       "                                                                   Normalizer())]),\n",
       "                                                  [&#x27;N2&#x27;, &#x27;N3&#x27;, &#x27;N7&#x27;, &#x27;N10&#x27;,\n",
       "                                                   &#x27;N13&#x27;, &#x27;N14&#x27;]),\n",
       "                                                 (&#x27;cat_transformer&#x27;,\n",
       "                                                  Pipeline(steps=[(&#x27;scaler&#x27;,\n",
       "                                                                   Normalizer())]),\n",
       "                                                  [&#x27;C1&#x27;, &#x27;C9&#x27;, &#x27;C11&#x27;]),\n",
       "                                                 (&#x27;cat_enc_1&#x27;,\n",
       "                                                  Pipeline(steps=[(&#x27;scaler&#x27;,\n",
       "                                                                   Normalizer())]),\n",
       "                                                  [&#x27;C6_enc&#x27;, &#x27;C5_enc&#x27;, &#x27;C4_enc&#x27;,\n",
       "                                                   &#x27;C12_enc&#x27;])])),\n",
       "                (&#x27;estimator&#x27;,\n",
       "                 RandomForestClassifier(criterion=&#x27;entropy&#x27;, max_features=4,\n",
       "                                        n_estimators=400, random_state=42))])</pre><b>In a Jupyter environment, please rerun this cell to show the HTML representation or trust the notebook. <br />On GitHub, the HTML representation is unable to render, please try loading this page with nbviewer.org.</b></div><div class=\"sk-container\" hidden><div class=\"sk-item sk-dashed-wrapped\"><div class=\"sk-label-container\"><div class=\"sk-label sk-toggleable\"><input class=\"sk-toggleable__control sk-hidden--visually\" id=\"sk-estimator-id-226\" type=\"checkbox\" ><label for=\"sk-estimator-id-226\" class=\"sk-toggleable__label sk-toggleable__label-arrow\">Pipeline</label><div class=\"sk-toggleable__content\"><pre>Pipeline(steps=[(&#x27;preproc&#x27;,\n",
       "                 ColumnTransformer(remainder=&#x27;passthrough&#x27;,\n",
       "                                   transformers=[(&#x27;num_transformer&#x27;,\n",
       "                                                  Pipeline(steps=[(&#x27;scaler&#x27;,\n",
       "                                                                   Normalizer())]),\n",
       "                                                  [&#x27;N2&#x27;, &#x27;N3&#x27;, &#x27;N7&#x27;, &#x27;N10&#x27;,\n",
       "                                                   &#x27;N13&#x27;, &#x27;N14&#x27;]),\n",
       "                                                 (&#x27;cat_transformer&#x27;,\n",
       "                                                  Pipeline(steps=[(&#x27;scaler&#x27;,\n",
       "                                                                   Normalizer())]),\n",
       "                                                  [&#x27;C1&#x27;, &#x27;C9&#x27;, &#x27;C11&#x27;]),\n",
       "                                                 (&#x27;cat_enc_1&#x27;,\n",
       "                                                  Pipeline(steps=[(&#x27;scaler&#x27;,\n",
       "                                                                   Normalizer())]),\n",
       "                                                  [&#x27;C6_enc&#x27;, &#x27;C5_enc&#x27;, &#x27;C4_enc&#x27;,\n",
       "                                                   &#x27;C12_enc&#x27;])])),\n",
       "                (&#x27;estimator&#x27;,\n",
       "                 RandomForestClassifier(criterion=&#x27;entropy&#x27;, max_features=4,\n",
       "                                        n_estimators=400, random_state=42))])</pre></div></div></div><div class=\"sk-serial\"><div class=\"sk-item sk-dashed-wrapped\"><div class=\"sk-label-container\"><div class=\"sk-label sk-toggleable\"><input class=\"sk-toggleable__control sk-hidden--visually\" id=\"sk-estimator-id-227\" type=\"checkbox\" ><label for=\"sk-estimator-id-227\" class=\"sk-toggleable__label sk-toggleable__label-arrow\">preproc: ColumnTransformer</label><div class=\"sk-toggleable__content\"><pre>ColumnTransformer(remainder=&#x27;passthrough&#x27;,\n",
       "                  transformers=[(&#x27;num_transformer&#x27;,\n",
       "                                 Pipeline(steps=[(&#x27;scaler&#x27;, Normalizer())]),\n",
       "                                 [&#x27;N2&#x27;, &#x27;N3&#x27;, &#x27;N7&#x27;, &#x27;N10&#x27;, &#x27;N13&#x27;, &#x27;N14&#x27;]),\n",
       "                                (&#x27;cat_transformer&#x27;,\n",
       "                                 Pipeline(steps=[(&#x27;scaler&#x27;, Normalizer())]),\n",
       "                                 [&#x27;C1&#x27;, &#x27;C9&#x27;, &#x27;C11&#x27;]),\n",
       "                                (&#x27;cat_enc_1&#x27;,\n",
       "                                 Pipeline(steps=[(&#x27;scaler&#x27;, Normalizer())]),\n",
       "                                 [&#x27;C6_enc&#x27;, &#x27;C5_enc&#x27;, &#x27;C4_enc&#x27;, &#x27;C12_enc&#x27;])])</pre></div></div></div><div class=\"sk-parallel\"><div class=\"sk-parallel-item\"><div class=\"sk-item\"><div class=\"sk-label-container\"><div class=\"sk-label sk-toggleable\"><input class=\"sk-toggleable__control sk-hidden--visually\" id=\"sk-estimator-id-228\" type=\"checkbox\" ><label for=\"sk-estimator-id-228\" class=\"sk-toggleable__label sk-toggleable__label-arrow\">num_transformer</label><div class=\"sk-toggleable__content\"><pre>[&#x27;N2&#x27;, &#x27;N3&#x27;, &#x27;N7&#x27;, &#x27;N10&#x27;, &#x27;N13&#x27;, &#x27;N14&#x27;]</pre></div></div></div><div class=\"sk-serial\"><div class=\"sk-item\"><div class=\"sk-serial\"><div class=\"sk-item\"><div class=\"sk-estimator sk-toggleable\"><input class=\"sk-toggleable__control sk-hidden--visually\" id=\"sk-estimator-id-229\" type=\"checkbox\" ><label for=\"sk-estimator-id-229\" class=\"sk-toggleable__label sk-toggleable__label-arrow\">Normalizer</label><div class=\"sk-toggleable__content\"><pre>Normalizer()</pre></div></div></div></div></div></div></div></div><div class=\"sk-parallel-item\"><div class=\"sk-item\"><div class=\"sk-label-container\"><div class=\"sk-label sk-toggleable\"><input class=\"sk-toggleable__control sk-hidden--visually\" id=\"sk-estimator-id-230\" type=\"checkbox\" ><label for=\"sk-estimator-id-230\" class=\"sk-toggleable__label sk-toggleable__label-arrow\">cat_transformer</label><div class=\"sk-toggleable__content\"><pre>[&#x27;C1&#x27;, &#x27;C9&#x27;, &#x27;C11&#x27;]</pre></div></div></div><div class=\"sk-serial\"><div class=\"sk-item\"><div class=\"sk-serial\"><div class=\"sk-item\"><div class=\"sk-estimator sk-toggleable\"><input class=\"sk-toggleable__control sk-hidden--visually\" id=\"sk-estimator-id-231\" type=\"checkbox\" ><label for=\"sk-estimator-id-231\" class=\"sk-toggleable__label sk-toggleable__label-arrow\">Normalizer</label><div class=\"sk-toggleable__content\"><pre>Normalizer()</pre></div></div></div></div></div></div></div></div><div class=\"sk-parallel-item\"><div class=\"sk-item\"><div class=\"sk-label-container\"><div class=\"sk-label sk-toggleable\"><input class=\"sk-toggleable__control sk-hidden--visually\" id=\"sk-estimator-id-232\" type=\"checkbox\" ><label for=\"sk-estimator-id-232\" class=\"sk-toggleable__label sk-toggleable__label-arrow\">cat_enc_1</label><div class=\"sk-toggleable__content\"><pre>[&#x27;C6_enc&#x27;, &#x27;C5_enc&#x27;, &#x27;C4_enc&#x27;, &#x27;C12_enc&#x27;]</pre></div></div></div><div class=\"sk-serial\"><div class=\"sk-item\"><div class=\"sk-serial\"><div class=\"sk-item\"><div class=\"sk-estimator sk-toggleable\"><input class=\"sk-toggleable__control sk-hidden--visually\" id=\"sk-estimator-id-233\" type=\"checkbox\" ><label for=\"sk-estimator-id-233\" class=\"sk-toggleable__label sk-toggleable__label-arrow\">Normalizer</label><div class=\"sk-toggleable__content\"><pre>Normalizer()</pre></div></div></div></div></div></div></div></div><div class=\"sk-parallel-item\"><div class=\"sk-item\"><div class=\"sk-label-container\"><div class=\"sk-label sk-toggleable\"><input class=\"sk-toggleable__control sk-hidden--visually\" id=\"sk-estimator-id-234\" type=\"checkbox\" ><label for=\"sk-estimator-id-234\" class=\"sk-toggleable__label sk-toggleable__label-arrow\">remainder</label><div class=\"sk-toggleable__content\"><pre>[&#x27;C8&#x27;]</pre></div></div></div><div class=\"sk-serial\"><div class=\"sk-item\"><div class=\"sk-estimator sk-toggleable\"><input class=\"sk-toggleable__control sk-hidden--visually\" id=\"sk-estimator-id-235\" type=\"checkbox\" ><label for=\"sk-estimator-id-235\" class=\"sk-toggleable__label sk-toggleable__label-arrow\">passthrough</label><div class=\"sk-toggleable__content\"><pre>passthrough</pre></div></div></div></div></div></div></div></div><div class=\"sk-item\"><div class=\"sk-estimator sk-toggleable\"><input class=\"sk-toggleable__control sk-hidden--visually\" id=\"sk-estimator-id-236\" type=\"checkbox\" ><label for=\"sk-estimator-id-236\" class=\"sk-toggleable__label sk-toggleable__label-arrow\">RandomForestClassifier</label><div class=\"sk-toggleable__content\"><pre>RandomForestClassifier(criterion=&#x27;entropy&#x27;, max_features=4, n_estimators=400,\n",
       "                       random_state=42)</pre></div></div></div></div></div></div></div>"
      ],
      "text/plain": [
       "Pipeline(steps=[('preproc',\n",
       "                 ColumnTransformer(remainder='passthrough',\n",
       "                                   transformers=[('num_transformer',\n",
       "                                                  Pipeline(steps=[('scaler',\n",
       "                                                                   Normalizer())]),\n",
       "                                                  ['N2', 'N3', 'N7', 'N10',\n",
       "                                                   'N13', 'N14']),\n",
       "                                                 ('cat_transformer',\n",
       "                                                  Pipeline(steps=[('scaler',\n",
       "                                                                   Normalizer())]),\n",
       "                                                  ['C1', 'C9', 'C11']),\n",
       "                                                 ('cat_enc_1',\n",
       "                                                  Pipeline(steps=[('scaler',\n",
       "                                                                   Normalizer())]),\n",
       "                                                  ['C6_enc', 'C5_enc', 'C4_enc',\n",
       "                                                   'C12_enc'])])),\n",
       "                ('estimator',\n",
       "                 RandomForestClassifier(criterion='entropy', max_features=4,\n",
       "                                        n_estimators=400, random_state=42))])"
      ]
     },
     "execution_count": 82,
     "metadata": {},
     "output_type": "execute_result"
    }
   ],
   "source": [
    "num_transformer = Pipeline(steps=[\n",
    "    ('scaler', MinMaxScaler())\n",
    "])\n",
    "cat_transformer = Pipeline(steps=[\n",
    "    ('scaler', MinMaxScaler())    \n",
    "])\n",
    "cat_enc_1_transformer = Pipeline(steps=[\n",
    "     ('scaler', RobustScaler())    \n",
    " ])\n",
    "gb = Pipeline( steps = [   \n",
    "('preproc', ct),\n",
    "('estimator', RandomForestClassifier(criterion = 'entropy', max_features = 4,\n",
    "                                    n_estimators = 400,\n",
    "                                    random_state=42))])\n",
    "gb.fit(X_train, y_train)"
   ]
  },
  {
   "cell_type": "code",
   "execution_count": 83,
   "metadata": {},
   "outputs": [
    {
     "name": "stdout",
     "output_type": "stream",
     "text": [
      "Правильность на тестовом наборе: 0.875\n"
     ]
    }
   ],
   "source": [
    "forest = RandomForestClassifier(criterion= 'entropy', n_estimators = 59, max_features = 9,\n",
    "                                random_state = 42)\n",
    "forest.fit(X_train, y_train)\n",
    "y_pred_best = forest.predict(X_test)\n",
    "print('Правильность на тестовом наборе:', f1_score(y_test, y_pred_best))"
   ]
  },
  {
   "cell_type": "code",
   "execution_count": 84,
   "metadata": {},
   "outputs": [
    {
     "data": {
      "text/plain": [
       "0.8518518518518519"
      ]
     },
     "execution_count": 84,
     "metadata": {},
     "output_type": "execute_result"
    }
   ],
   "source": [
    "y_pred = gb.predict(X_test)\n",
    "f1 = f1_score(y_test, y_pred)\n",
    "f1"
   ]
  },
  {
   "cell_type": "code",
   "execution_count": 85,
   "metadata": {},
   "outputs": [
    {
     "data": {
      "text/plain": [
       "1.0"
      ]
     },
     "execution_count": 85,
     "metadata": {},
     "output_type": "execute_result"
    }
   ],
   "source": [
    "y_pred = gb.predict(X_train)\n",
    "f1 = f1_score(y_train, y_pred)\n",
    "f1 #переобучена"
   ]
  },
  {
   "cell_type": "markdown",
   "metadata": {},
   "source": [
    "###### Лучшее значение = 0.8545454545454546"
   ]
  },
  {
   "cell_type": "code",
   "execution_count": null,
   "metadata": {},
   "outputs": [],
   "source": []
  }
 ],
 "metadata": {
  "kernelspec": {
   "display_name": "Python 3 (ipykernel)",
   "language": "python",
   "name": "python3"
  },
  "language_info": {
   "codemirror_mode": {
    "name": "ipython",
    "version": 3
   },
   "file_extension": ".py",
   "mimetype": "text/x-python",
   "name": "python",
   "nbconvert_exporter": "python",
   "pygments_lexer": "ipython3",
   "version": "3.10.9"
  }
 },
 "nbformat": 4,
 "nbformat_minor": 2
}
